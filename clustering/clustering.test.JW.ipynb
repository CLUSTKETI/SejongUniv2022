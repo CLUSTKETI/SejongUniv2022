{
 "cells": [
  {
   "cell_type": "code",
   "execution_count": 9,
   "id": "76ab4fbb",
   "metadata": {},
   "outputs": [],
   "source": [
    "import numpy as np\n",
    "\n",
    "import sys\n",
    "sys.path.append(\"../\")\n",
    "sys.path.append(\"../../\")\n",
    "\n",
    "\n",
    "\n",
    "from tslearn.datasets import CachedDatasets\n",
    "X_train, y_train, X_test, y_test = CachedDatasets().load_dataset(\"Trace\")"
   ]
  },
  {
   "cell_type": "code",
   "execution_count": 10,
   "id": "40c1524b",
   "metadata": {},
   "outputs": [],
   "source": [
    "from tslearn.preprocessing import TimeSeriesScalerMeanVariance, TimeSeriesResampler\n",
    "X_train = X_train[y_train < 4]  # Keep first 3 classes\n",
    "np.random.shuffle(X_train)\n",
    "# Keep only 50 time series\n",
    "X_train = TimeSeriesScalerMeanVariance().fit_transform(X_train[:50])\n",
    "# Make time series shorter\n",
    "X_train = TimeSeriesResampler(sz=40).fit_transform(X_train)"
   ]
  },
  {
   "cell_type": "code",
   "execution_count": 11,
   "id": "414e7a1c",
   "metadata": {
    "scrolled": false
   },
   "outputs": [],
   "source": [
    "max_clusters = 9\n",
    "kmeans_method_list =['euclidean', 'dtw', 'softdtw']\n",
    "kmeans_method = kmeans_method_list[1]\n",
    "data =X_train\n",
    "data= np.reshape(data,(data.shape[0],-1))"
   ]
  },
  {
   "cell_type": "code",
   "execution_count": 12,
   "id": "38a590c7",
   "metadata": {},
   "outputs": [
    {
     "data": {
      "text/plain": [
       "array([[-1.44773633, -1.40486339, -1.39430057, ...,  0.76298636,\n",
       "         0.72790992,  0.75107749],\n",
       "       [-1.58057629, -1.50113683, -1.52062358, ...,  0.75397414,\n",
       "         0.74484624,  0.71382979],\n",
       "       [ 0.66455793,  0.56782604,  0.65111839, ...,  0.55524164,\n",
       "         0.55725016,  0.56296336],\n",
       "       ...,\n",
       "       [-1.85166585, -1.8813506 , -1.85081559, ...,  0.55008442,\n",
       "         0.59766735,  0.58632698],\n",
       "       [ 0.85817189,  0.79860069,  0.8382816 , ...,  0.7858385 ,\n",
       "         0.79526822,  0.79170096],\n",
       "       [ 0.70284807,  0.67041062,  0.66094803, ...,  0.58290225,\n",
       "         0.5847045 ,  0.59973054]])"
      ]
     },
     "execution_count": 12,
     "metadata": {},
     "output_type": "execute_result"
    }
   ],
   "source": [
    "data"
   ]
  },
  {
   "cell_type": "code",
   "execution_count": 13,
   "id": "d709b81d",
   "metadata": {},
   "outputs": [
    {
     "ename": "NameError",
     "evalue": "name 'train' is not defined",
     "output_type": "error",
     "traceback": [
      "\u001b[0;31m---------------------------------------------------------------------------\u001b[0m",
      "\u001b[0;31mNameError\u001b[0m                                 Traceback (most recent call last)",
      "Cell \u001b[0;32mIn[13], line 1\u001b[0m\n\u001b[0;32m----> 1\u001b[0m \u001b[38;5;28;01mfrom\u001b[39;00m \u001b[38;5;21;01mClust\u001b[39;00m\u001b[38;5;21;01m.\u001b[39;00m\u001b[38;5;21;01mclust\u001b[39;00m\u001b[38;5;21;01m.\u001b[39;00m\u001b[38;5;21;01mML\u001b[39;00m\u001b[38;5;21;01m.\u001b[39;00m\u001b[38;5;21;01mclustering\u001b[39;00m\u001b[38;5;21;01m.\u001b[39;00m\u001b[38;5;21;01mkMeans\u001b[39;00m \u001b[38;5;28;01mimport\u001b[39;00m KMeans\n\u001b[1;32m      2\u001b[0m cluster_labels, metrics \u001b[38;5;241m=\u001b[39m KMeans()\u001b[38;5;241m.\u001b[39mget_multipleCluster_result(data, max_clusters, kmeans_method)\n\u001b[1;32m      3\u001b[0m metrics[[\u001b[38;5;124m\"\u001b[39m\u001b[38;5;124msilhouette_score\u001b[39m\u001b[38;5;124m\"\u001b[39m]]\u001b[38;5;241m.\u001b[39mplot()\n",
      "File \u001b[0;32m~/code/Clust/clust/ML/clustering/kMeans.py:8\u001b[0m\n\u001b[1;32m      5\u001b[0m seed \u001b[38;5;241m=\u001b[39m \u001b[38;5;241m0\u001b[39m\n\u001b[1;32m      6\u001b[0m np\u001b[38;5;241m.\u001b[39mrandom\u001b[38;5;241m.\u001b[39mseed(seed)\n\u001b[0;32m----> 8\u001b[0m \u001b[38;5;28;01mclass\u001b[39;00m \u001b[38;5;21;01mKMeansTrain\u001b[39;00m(\u001b[43mtrain\u001b[49m, Clustering):   \n\u001b[1;32m      9\u001b[0m     \u001b[38;5;28;01mdef\u001b[39;00m \u001b[38;5;21m__init__\u001b[39m(\u001b[38;5;28mself\u001b[39m, param):\n\u001b[1;32m     11\u001b[0m         \u001b[38;5;124;03m\"\"\"\u001b[39;00m\n\u001b[1;32m     12\u001b[0m \u001b[38;5;124;03m        Args:\u001b[39;00m\n\u001b[1;32m     13\u001b[0m \u001b[38;5;124;03m        param(dict): parameter for clustering\u001b[39;00m\n\u001b[0;32m   (...)\u001b[0m\n\u001b[1;32m     18\u001b[0m \u001b[38;5;124;03m                             \"epochs\":5000}\u001b[39;00m\n\u001b[1;32m     19\u001b[0m \u001b[38;5;124;03m        \"\"\"\u001b[39;00m\n",
      "\u001b[0;31mNameError\u001b[0m: name 'train' is not defined"
     ]
    }
   ],
   "source": [
    "from Clust.clust.ML.clustering.kMeans import KMeans\n",
    "cluster_labels, metrics = KMeans().get_multipleCluster_result(data, max_clusters, kmeans_method)\n",
    "metrics[[\"silhouette_score\"]].plot()\n",
    "metrics[[\"distortion_score\"]].plot()"
   ]
  },
  {
   "cell_type": "code",
   "execution_count": 4,
   "id": "6f273177",
   "metadata": {},
   "outputs": [
    {
     "data": {
      "text/plain": [
       "'\\nimport seaborn as sns\\npivot_km = pd.pivot_table(result, index=\"n_clusters\", values=\"silhouette_score\")\\nplt.figure()\\nsns.heatmap(pivot_km, annot=True, linewidths=.5, fmt=\\'.3f\\', cmap=sns.cm._rocket_lut)\\nplt.tight_layout()\\nplt.show()\\n'"
      ]
     },
     "execution_count": 4,
     "metadata": {},
     "output_type": "execute_result"
    }
   ],
   "source": [
    "\n",
    "\"\"\"\n",
    "import seaborn as sns\n",
    "pivot_km = pd.pivot_table(result, index=\"n_clusters\", values=\"silhouette_score\")\n",
    "plt.figure()\n",
    "sns.heatmap(pivot_km, annot=True, linewidths=.5, fmt='.3f', cmap=sns.cm._rocket_lut)\n",
    "plt.tight_layout()\n",
    "plt.show()\n",
    "\"\"\""
   ]
  },
  {
   "cell_type": "code",
   "execution_count": null,
   "id": "e16a4f35",
   "metadata": {},
   "outputs": [],
   "source": []
  }
 ],
 "metadata": {
  "kernelspec": {
   "display_name": "Python 3",
   "language": "python",
   "name": "python3"
  },
  "language_info": {
   "codemirror_mode": {
    "name": "ipython",
    "version": 3
   },
   "file_extension": ".py",
   "mimetype": "text/x-python",
   "name": "python",
   "nbconvert_exporter": "python",
   "pygments_lexer": "ipython3",
   "version": "3.8.8"
  }
 },
 "nbformat": 4,
 "nbformat_minor": 5
}
