{
 "cells": [
  {
   "cell_type": "code",
   "execution_count": 1,
   "metadata": {},
   "outputs": [
    {
     "name": "stderr",
     "output_type": "stream",
     "text": [
      "C:\\Users\\User\\anaconda3\\envs\\Air_pred\\lib\\site-packages\\numpy\\_distributor_init.py:30: UserWarning: loaded more than 1 DLL from .libs:\n",
      "C:\\Users\\User\\anaconda3\\envs\\Air_pred\\lib\\site-packages\\numpy\\.libs\\libopenblas.EL2C6PLE4ZYW3ECEVIV3OXXGRN2NRFM2.gfortran-win_amd64.dll\n",
      "C:\\Users\\User\\anaconda3\\envs\\Air_pred\\lib\\site-packages\\numpy\\.libs\\libopenblas.WCDJNK7YVMPZQ2ME2ZZHJJRJ3JIKNDB7.gfortran-win_amd64.dll\n",
      "  warnings.warn(\"loaded more than 1 DLL from .libs:\"\n"
     ]
    }
   ],
   "source": [
    "#데이터 가공 및 시각화를 위한 라이브러리 import\n",
    "import pandas as pd\n",
    "# matplotlib를 사용해 그래프를 그릴 때 사용할 글꼴을 설정하고 한글 깨짐을 수정함\n",
    "from matplotlib import font_manager, rc\n",
    "font_path = \"C:/Windows/Fonts/NGULIM.TTF\"\n",
    "font = font_manager.FontProperties(fname=font_path).get_name()\n",
    "rc('font', family=font)\n",
    "from datetime import datetime, timedelta\n",
    "import os"
   ]
  },
  {
   "cell_type": "code",
   "execution_count": 2,
   "metadata": {
    "pycharm": {
     "name": "#%%\n"
    }
   },
   "outputs": [],
   "source": [
    "# 경고 메세지 off\n",
    "import warnings\n",
    "\n",
    "warnings.filterwarnings(action='ignore')"
   ]
  },
  {
   "cell_type": "code",
   "execution_count": 3,
   "metadata": {
    "pycharm": {
     "name": "#%%\n"
    }
   },
   "outputs": [],
   "source": [
    "# 가공을 끝낸'df_pm10_drop' data set 불러오기\n",
    "address = './Dataset'\n",
    "df_pm10_drop = pd.read_csv(os.path.join(address,'df_pm10_drop_1110.csv'),encoding='cp949')"
   ]
  },
  {
   "cell_type": "code",
   "execution_count": 4,
   "metadata": {
    "pycharm": {
     "name": "#%%\n"
    }
   },
   "outputs": [],
   "source": [
    "# 'df_pm10_drop'의 30일 기간의 시작시간과 끝 시간을 저장한 data set 불러오기\n",
    "address = './Dataset/Dataset_info'\n",
    "in_data_resample = pd.read_csv(os.path.join(address,'in_data_resample.csv'), header = 0, encoding='cp949')"
   ]
  },
  {
   "cell_type": "code",
   "execution_count": 5,
   "metadata": {
    "pycharm": {
     "name": "#%%\n"
    }
   },
   "outputs": [
    {
     "data": {
      "text/html": [
       "<div>\n",
       "<style scoped>\n",
       "    .dataframe tbody tr th:only-of-type {\n",
       "        vertical-align: middle;\n",
       "    }\n",
       "\n",
       "    .dataframe tbody tr th {\n",
       "        vertical-align: top;\n",
       "    }\n",
       "\n",
       "    .dataframe thead th {\n",
       "        text-align: right;\n",
       "    }\n",
       "</style>\n",
       "<table border=\"1\" class=\"dataframe\">\n",
       "  <thead>\n",
       "    <tr style=\"text-align: right;\">\n",
       "      <th></th>\n",
       "      <th>indata_cd</th>\n",
       "      <th>start_time</th>\n",
       "      <th>end_time</th>\n",
       "    </tr>\n",
       "  </thead>\n",
       "  <tbody>\n",
       "    <tr>\n",
       "      <th>0</th>\n",
       "      <td>ICL1L2000011</td>\n",
       "      <td>2020-07-22</td>\n",
       "      <td>2020-08-21</td>\n",
       "    </tr>\n",
       "    <tr>\n",
       "      <th>1</th>\n",
       "      <td>ICL1L2000017</td>\n",
       "      <td>2020-06-27</td>\n",
       "      <td>2020-07-27</td>\n",
       "    </tr>\n",
       "    <tr>\n",
       "      <th>2</th>\n",
       "      <td>ICL1L2000064</td>\n",
       "      <td>2020-11-25</td>\n",
       "      <td>2020-12-25</td>\n",
       "    </tr>\n",
       "    <tr>\n",
       "      <th>3</th>\n",
       "      <td>ICL1L2000065</td>\n",
       "      <td>2020-12-18</td>\n",
       "      <td>2021-01-17</td>\n",
       "    </tr>\n",
       "    <tr>\n",
       "      <th>4</th>\n",
       "      <td>ICL1L2000234</td>\n",
       "      <td>2021-02-07</td>\n",
       "      <td>2021-03-09</td>\n",
       "    </tr>\n",
       "  </tbody>\n",
       "</table>\n",
       "</div>"
      ],
      "text/plain": [
       "      indata_cd  start_time    end_time\n",
       "0  ICL1L2000011  2020-07-22  2020-08-21\n",
       "1  ICL1L2000017  2020-06-27  2020-07-27\n",
       "2  ICL1L2000064  2020-11-25  2020-12-25\n",
       "3  ICL1L2000065  2020-12-18  2021-01-17\n",
       "4  ICL1L2000234  2021-02-07  2021-03-09"
      ]
     },
     "execution_count": 5,
     "metadata": {},
     "output_type": "execute_result"
    }
   ],
   "source": [
    "in_data_resample.head()"
   ]
  },
  {
   "cell_type": "code",
   "execution_count": 6,
   "metadata": {
    "pycharm": {
     "name": "#%%\n"
    }
   },
   "outputs": [
    {
     "name": "stdout",
     "output_type": "stream",
     "text": [
      "Int64Index([153], dtype='int64')\n",
      "1\n"
     ]
    }
   ],
   "source": [
    "# 길이가 부족한 indata_cd 삭제\n",
    "index1 = in_data_resample[in_data_resample['start_time'] == '길이부족'].index\n",
    "print(index1)\n",
    "print(len(index1))"
   ]
  },
  {
   "cell_type": "code",
   "execution_count": 7,
   "metadata": {
    "pycharm": {
     "name": "#%%\n"
    }
   },
   "outputs": [],
   "source": [
    "in_data_resample = in_data_resample.drop(index1)"
   ]
  },
  {
   "cell_type": "code",
   "execution_count": 8,
   "metadata": {
    "pycharm": {
     "name": "#%%\n"
    }
   },
   "outputs": [
    {
     "name": "stdout",
     "output_type": "stream",
     "text": [
      "Int64Index([145], dtype='int64')\n",
      "1\n"
     ]
    }
   ],
   "source": [
    "# 결측값이 30%가 넘지 않는 30일 기간이 없는 indata_cd 삭제\n",
    "index2 = in_data_resample[in_data_resample['start_time'] == 'false'].index\n",
    "print(index2)\n",
    "print(len(index2))"
   ]
  },
  {
   "cell_type": "code",
   "execution_count": 9,
   "metadata": {
    "pycharm": {
     "name": "#%%\n"
    }
   },
   "outputs": [],
   "source": [
    "in_data_resample = in_data_resample.drop(index2)"
   ]
  },
  {
   "cell_type": "code",
   "execution_count": 10,
   "metadata": {
    "pycharm": {
     "name": "#%%\n"
    },
    "scrolled": true
   },
   "outputs": [],
   "source": [
    "# in_data_resample의 값 datetime으로 type 변경\n",
    "in_data_resample['start_time_2'] =pd.to_datetime(in_data_resample['start_time'],format='%Y-%m-%d',errors='raise')"
   ]
  },
  {
   "cell_type": "code",
   "execution_count": 11,
   "metadata": {
    "pycharm": {
     "name": "#%%\n"
    }
   },
   "outputs": [],
   "source": [
    "# 30일 데이터에서 7일 기간 계산\n",
    "in_data_resample['start_time_2']= in_data_resample['start_time_2'].map(lambda x : x )\n",
    "in_data_resample['end_time_2']= in_data_resample['start_time_2'].map(lambda x : x + timedelta(6))\n",
    "in_data_resample['end_time_2'] = in_data_resample['end_time_2'].copy().dt.date\n",
    "in_data_resample['start_time_2'] = in_data_resample['start_time_2'].copy().dt.date\n",
    "in_data_resample['start_time_2'] = in_data_resample['start_time_2'].astype(str)\n",
    "in_data_resample['end_time_2']  = in_data_resample['end_time_2'].astype(str)"
   ]
  },
  {
   "cell_type": "code",
   "execution_count": 12,
   "metadata": {
    "pycharm": {
     "name": "#%%\n"
    }
   },
   "outputs": [
    {
     "data": {
      "text/html": [
       "<div>\n",
       "<style scoped>\n",
       "    .dataframe tbody tr th:only-of-type {\n",
       "        vertical-align: middle;\n",
       "    }\n",
       "\n",
       "    .dataframe tbody tr th {\n",
       "        vertical-align: top;\n",
       "    }\n",
       "\n",
       "    .dataframe thead th {\n",
       "        text-align: right;\n",
       "    }\n",
       "</style>\n",
       "<table border=\"1\" class=\"dataframe\">\n",
       "  <thead>\n",
       "    <tr style=\"text-align: right;\">\n",
       "      <th></th>\n",
       "      <th>indata_cd</th>\n",
       "      <th>start_time</th>\n",
       "      <th>end_time</th>\n",
       "      <th>start_time_2</th>\n",
       "      <th>end_time_2</th>\n",
       "    </tr>\n",
       "  </thead>\n",
       "  <tbody>\n",
       "    <tr>\n",
       "      <th>0</th>\n",
       "      <td>ICL1L2000011</td>\n",
       "      <td>2020-07-22</td>\n",
       "      <td>2020-08-21</td>\n",
       "      <td>2020-07-22</td>\n",
       "      <td>2020-07-28</td>\n",
       "    </tr>\n",
       "    <tr>\n",
       "      <th>1</th>\n",
       "      <td>ICL1L2000017</td>\n",
       "      <td>2020-06-27</td>\n",
       "      <td>2020-07-27</td>\n",
       "      <td>2020-06-27</td>\n",
       "      <td>2020-07-03</td>\n",
       "    </tr>\n",
       "    <tr>\n",
       "      <th>2</th>\n",
       "      <td>ICL1L2000064</td>\n",
       "      <td>2020-11-25</td>\n",
       "      <td>2020-12-25</td>\n",
       "      <td>2020-11-25</td>\n",
       "      <td>2020-12-01</td>\n",
       "    </tr>\n",
       "    <tr>\n",
       "      <th>3</th>\n",
       "      <td>ICL1L2000065</td>\n",
       "      <td>2020-12-18</td>\n",
       "      <td>2021-01-17</td>\n",
       "      <td>2020-12-18</td>\n",
       "      <td>2020-12-24</td>\n",
       "    </tr>\n",
       "    <tr>\n",
       "      <th>4</th>\n",
       "      <td>ICL1L2000234</td>\n",
       "      <td>2021-02-07</td>\n",
       "      <td>2021-03-09</td>\n",
       "      <td>2021-02-07</td>\n",
       "      <td>2021-02-13</td>\n",
       "    </tr>\n",
       "  </tbody>\n",
       "</table>\n",
       "</div>"
      ],
      "text/plain": [
       "      indata_cd  start_time    end_time start_time_2  end_time_2\n",
       "0  ICL1L2000011  2020-07-22  2020-08-21   2020-07-22  2020-07-28\n",
       "1  ICL1L2000017  2020-06-27  2020-07-27   2020-06-27  2020-07-03\n",
       "2  ICL1L2000064  2020-11-25  2020-12-25   2020-11-25  2020-12-01\n",
       "3  ICL1L2000065  2020-12-18  2021-01-17   2020-12-18  2020-12-24\n",
       "4  ICL1L2000234  2021-02-07  2021-03-09   2021-02-07  2021-02-13"
      ]
     },
     "execution_count": 12,
     "metadata": {},
     "output_type": "execute_result"
    }
   ],
   "source": [
    "in_data_resample.head()\n",
    "# start_time_2:7일 데이터 시작 , end_time_2: 7일 데이터 끝"
   ]
  },
  {
   "cell_type": "code",
   "execution_count": 13,
   "metadata": {},
   "outputs": [],
   "source": [
    "# 계산된 7일 기간 dataframe 저장\n",
    "address = './Data'\n",
    "in_data_resample.to_csv(os.path.join(address,'in_data_resample_7day.csv'), encoding=\"cp949\", index=False)"
   ]
  },
  {
   "cell_type": "markdown",
   "metadata": {},
   "source": []
  },
  {
   "cell_type": "code",
   "execution_count": 14,
   "metadata": {
    "pycharm": {
     "name": "#%%\n"
    },
    "scrolled": true
   },
   "outputs": [
    {
     "name": "stdout",
     "output_type": "stream",
     "text": [
      "ICL1L2000011 2020-07-22 2020-07-28\n",
      "1008\n",
      "ICL1L2000017 2020-06-27 2020-07-03\n",
      "1008\n",
      "ICL1L2000064 2020-11-25 2020-12-01\n",
      "1008\n",
      "ICL1L2000065 2020-12-18 2020-12-24\n",
      "1008\n",
      "ICL1L2000234 2021-02-07 2021-02-13\n",
      "1008\n",
      "ICL1L2000235 2021-02-07 2021-02-13\n",
      "1008\n",
      "ICL1L2000236 2021-02-06 2021-02-12\n",
      "1008\n",
      "ICL1L2000237 2021-02-06 2021-02-12\n",
      "1008\n",
      "ICL1L2000238 2021-03-14 2021-03-20\n",
      "1008\n",
      "ICL1L2000239 2021-02-07 2021-02-13\n",
      "1008\n",
      "ICL1L2000240 2021-02-07 2021-02-13\n",
      "1008\n",
      "ICL1L2000241 2021-02-07 2021-02-13\n",
      "1008\n",
      "ICL1L2000242 2021-02-07 2021-02-13\n",
      "1008\n",
      "ICL1L2000244 2021-02-07 2021-02-13\n",
      "1008\n",
      "ICL1L2000245 2021-02-07 2021-02-13\n",
      "1008\n",
      "ICL1L2000246 2021-02-07 2021-02-13\n",
      "1008\n",
      "ICL1L2000247 2021-02-07 2021-02-13\n",
      "1008\n",
      "ICL1L2000248 2021-02-07 2021-02-13\n",
      "1008\n",
      "ICL1L2000249 2021-02-07 2021-02-13\n",
      "1008\n",
      "ICL1L2000252 2021-02-07 2021-02-13\n",
      "1008\n",
      "ICL1L2000253 2021-02-07 2021-02-13\n",
      "1008\n",
      "ICL1L2000254 2021-02-07 2021-02-13\n",
      "1008\n",
      "ICL1L2000255 2021-02-07 2021-02-13\n",
      "1008\n",
      "ICL1L2000257 2021-03-24 2021-03-30\n",
      "1008\n",
      "ICL1L2000258 2021-02-07 2021-02-13\n",
      "1008\n",
      "ICL1L2000259 2021-02-07 2021-02-13\n",
      "1008\n",
      "ICL1L2000260 2021-02-07 2021-02-13\n",
      "1008\n",
      "ICL1L2000262 2021-02-07 2021-02-13\n",
      "1008\n",
      "ICL1L2000263 2021-07-16 2021-07-22\n",
      "1008\n",
      "ICL1L2000265 2021-01-30 2021-02-05\n",
      "1008\n",
      "ICL1L2000266 2021-01-30 2021-02-05\n",
      "1008\n",
      "ICL1L2000267 2021-05-13 2021-05-19\n",
      "1008\n",
      "ICL1L2000268 2021-01-30 2021-02-05\n",
      "1008\n",
      "ICL1L2000269 2021-01-31 2021-02-06\n",
      "1008\n",
      "ICL1L2000271 2021-02-02 2021-02-08\n",
      "1008\n",
      "ICL1L2000272 2021-01-30 2021-02-05\n",
      "1008\n",
      "ICL1L2000274 2021-01-31 2021-02-06\n",
      "1008\n",
      "ICL1L2000275 2021-01-31 2021-02-06\n",
      "1008\n",
      "ICL1L2000276 2021-01-31 2021-02-06\n",
      "1008\n",
      "ICL1L2000277 2021-05-14 2021-05-20\n",
      "1008\n",
      "ICL1L2000278 2021-02-25 2021-03-03\n",
      "1008\n",
      "ICL1L2000279 2021-01-31 2021-02-06\n",
      "1008\n",
      "ICL1L2000280 2021-01-31 2021-02-06\n",
      "1008\n",
      "ICL1L2000281 2021-01-31 2021-02-06\n",
      "1008\n",
      "ICL1L2000283 2021-01-31 2021-02-06\n",
      "1008\n",
      "ICW0W2000011 2021-07-21 2021-07-27\n",
      "1008\n",
      "ICW0W2000012 2020-09-25 2020-10-01\n",
      "1008\n",
      "ICW0W2000013 2020-04-16 2020-04-22\n",
      "1003\n",
      "ICW0W2000013\n",
      "ICW0W2000014 2020-03-26 2020-04-01\n",
      "1008\n",
      "ICW0W2000015 2020-03-28 2020-04-03\n",
      "1008\n",
      "ICW0W2000016 2020-03-28 2020-04-03\n",
      "1008\n",
      "ICW0W2000018 2020-07-19 2020-07-25\n",
      "1008\n",
      "ICW0W2000019 2020-04-01 2020-04-07\n",
      "1008\n",
      "ICW0W2000020 2020-03-31 2020-04-06\n",
      "1008\n",
      "ICW0W2000022 2020-03-25 2020-03-31\n",
      "1008\n",
      "ICW0W2000023 2020-03-25 2020-03-31\n",
      "1008\n",
      "ICW0W2000024 2020-03-26 2020-04-01\n",
      "1008\n",
      "ICW0W2000025 2020-03-25 2020-03-31\n",
      "1008\n",
      "ICW0W2000031 2020-09-05 2020-09-11\n",
      "1008\n",
      "ICW0W2000032 2020-03-28 2020-04-03\n",
      "1008\n",
      "ICW0W2000033 2020-08-25 2020-08-31\n",
      "1008\n",
      "ICW0W2000034 2020-03-28 2020-04-03\n",
      "1008\n",
      "ICW0W2000087 2020-06-01 2020-06-07\n",
      "1008\n",
      "ICW0W2000088 2020-06-01 2020-06-07\n",
      "1008\n",
      "ICW0W2000089 2020-06-01 2020-06-07\n",
      "1008\n",
      "ICW0W2000094 2020-05-30 2020-06-05\n",
      "1008\n",
      "ICW0W2000095 2020-06-02 2020-06-08\n",
      "1008\n",
      "ICW0W2000096 2020-06-02 2020-06-08\n",
      "1008\n",
      "ICW0W2000097 2020-06-02 2020-06-08\n",
      "1008\n",
      "ICW0W2000098 2020-06-02 2020-06-08\n",
      "1008\n",
      "ICW0W2000099 2020-05-30 2020-06-05\n",
      "1008\n",
      "ICW0W2000100 2020-05-30 2020-06-05\n",
      "1008\n",
      "ICW0W2000101 2020-05-30 2020-06-05\n",
      "1008\n",
      "ICW0W2000108 2020-05-29 2020-06-04\n",
      "1008\n",
      "ICW0W2000116 2020-05-29 2020-06-04\n",
      "1008\n",
      "ICW0W2000128 2020-05-31 2020-06-06\n",
      "1008\n",
      "ICW0W2000129 2020-08-17 2020-08-23\n",
      "1008\n",
      "ICW0W2000248 2020-08-01 2020-08-07\n",
      "1008\n",
      "ICW0W2000251 2020-07-03 2020-07-09\n",
      "1008\n",
      "ICW0W2000279 2020-08-02 2020-08-08\n",
      "1008\n",
      "ICW0W2000287 2020-08-02 2020-08-08\n",
      "1008\n",
      "ICW0W2000396 2020-08-30 2020-09-05\n",
      "1008\n",
      "ICW0W2000613 2021-03-18 2021-03-24\n",
      "1008\n",
      "ICW0W2000641 2020-11-12 2020-11-18\n",
      "1008\n",
      "ICW0W2000647 2020-07-25 2020-07-31\n",
      "1008\n",
      "ICW0W2000648 2020-12-10 2020-12-16\n",
      "1008\n",
      "ICW0W2000649 2020-07-31 2020-08-06\n",
      "1008\n",
      "ICW0W2000650 2020-07-31 2020-08-06\n",
      "1008\n",
      "ICW0W2000651 2020-07-31 2020-08-06\n",
      "1008\n",
      "ICW0W2000726 2020-08-27 2020-09-02\n",
      "1008\n",
      "ICW0W2000727 2020-08-24 2020-08-30\n",
      "1008\n",
      "ICW0W2000728 2020-08-27 2020-09-02\n",
      "1008\n",
      "ICW0W2000760 2020-09-01 2020-09-07\n",
      "1008\n",
      "ICW0W2000781 2020-10-25 2020-10-31\n",
      "1008\n",
      "ICW0W2000783 2020-10-26 2020-11-01\n",
      "1008\n",
      "ICW0W2000784 2020-10-24 2020-10-30\n",
      "1008\n",
      "ICW0W2000786 2020-10-25 2020-10-31\n",
      "1008\n",
      "ICW0W2000788 2021-01-22 2021-01-28\n",
      "1008\n",
      "ICW0W2000789 2020-10-26 2020-11-01\n",
      "1008\n",
      "ICW0W2000790 2020-10-26 2020-11-01\n",
      "1008\n",
      "ICW0W2000792 2020-10-28 2020-11-03\n",
      "1008\n",
      "ICW0W2000793 2020-10-24 2020-10-30\n",
      "1008\n",
      "ICW0W2000794 2020-10-30 2020-11-05\n",
      "1008\n",
      "ICW0W2000795 2020-11-02 2020-11-08\n",
      "1008\n",
      "ICW0W2000796 2020-10-28 2020-11-03\n",
      "1008\n",
      "ICW0W2000798 2021-02-07 2021-02-13\n",
      "1008\n",
      "ICW0W2000799 2020-10-28 2020-11-03\n",
      "1008\n",
      "ICW0W2000802 2020-10-19 2020-10-25\n",
      "1008\n",
      "ICW0W2000805 2020-10-20 2020-10-26\n",
      "1008\n",
      "ICW0W2000806 2020-11-02 2020-11-08\n",
      "1008\n",
      "ICW0W2000809 2020-10-29 2020-11-04\n",
      "1008\n",
      "ICW0W2000810 2020-10-19 2020-10-25\n",
      "1008\n",
      "ICW0W2000812 2020-10-19 2020-10-25\n",
      "1008\n",
      "ICW0W2000815 2020-10-19 2020-10-25\n",
      "1008\n",
      "ICW0W2000816 2020-10-31 2020-11-06\n",
      "1008\n",
      "ICW0W2000821 2020-12-09 2020-12-15\n",
      "1008\n",
      "ICW0W2000822 2020-11-15 2020-11-21\n",
      "1008\n",
      "ICW0W2000823 2020-12-20 2020-12-26\n",
      "1008\n",
      "ICW0W2000826 2020-11-14 2020-11-20\n",
      "1008\n",
      "ICW0W2000827 2020-11-15 2020-11-21\n",
      "1008\n",
      "ICW0W2000828 2020-11-13 2020-11-19\n",
      "1008\n",
      "ICW0W2000832 2020-11-22 2020-11-28\n",
      "1008\n",
      "ICW0W2000833 2020-11-15 2020-11-21\n",
      "1008\n",
      "ICW0W2000836 2020-11-15 2020-11-21\n",
      "1008\n",
      "ICW0W2000837 2020-11-15 2020-11-21\n",
      "1008\n",
      "ICW0W2000839 2020-11-15 2020-11-21\n",
      "1008\n",
      "ICW0W2000840 2020-11-15 2020-11-21\n",
      "1008\n",
      "ICW0W2000841 2020-11-16 2020-11-22\n",
      "1008\n",
      "ICW0W2000844 2020-11-14 2020-11-20\n",
      "1008\n",
      "ICW0W2000847 2020-11-14 2020-11-20\n",
      "1008\n",
      "ICW0W2000850 2020-11-14 2020-11-20\n",
      "1008\n",
      "ICW0W2001036 2020-11-03 2020-11-09\n",
      "1008\n",
      "ICW0W2001037 2020-11-03 2020-11-09\n",
      "1008\n",
      "ICW0W2001451 2021-02-28 2021-03-06\n",
      "1008\n",
      "ICW0W2001467 2021-03-21 2021-03-27\n",
      "1008\n",
      "ICW0W2001470 2021-03-21 2021-03-27\n",
      "1008\n",
      "ICW0W2001472 2021-03-22 2021-03-28\n",
      "1008\n",
      "ICW0W2001474 2021-03-22 2021-03-28\n",
      "1008\n",
      "ICW0W2100150 2021-05-02 2021-05-08\n",
      "1008\n",
      "ICW0W2100152 2021-05-15 2021-05-21\n",
      "1008\n",
      "ICW0W2100272 2021-06-07 2021-06-13\n",
      "1008\n",
      "ICW0W2100273 2021-05-26 2021-06-01\n",
      "1008\n",
      "ICW0W2100277 2021-05-26 2021-06-01\n",
      "1008\n",
      "ICW0W2100278 2021-05-26 2021-06-01\n",
      "1008\n",
      "IS70W2000822 2022-03-22 2022-03-28\n",
      "1008\n",
      "IS70W2000851 2021-04-17 2021-04-23\n",
      "1008\n",
      "IS70W2000852 2021-04-17 2021-04-23\n",
      "1008\n",
      "IS70W2000853 2021-04-17 2021-04-23\n",
      "1008\n",
      "IS70W2000854 2021-04-20 2021-04-26\n",
      "1008\n",
      "IS70W2000855 2021-04-17 2021-04-23\n",
      "1008\n",
      "IS70W2000856 2021-04-17 2021-04-23\n",
      "1008\n",
      "IS70W2000858 2021-04-23 2021-04-29\n",
      "1008\n"
     ]
    }
   ],
   "source": [
    "# 계산된 7일 기간으로 'df_pm10_drop'를 filtering 진행\n",
    "\n",
    "df_pm10_7day_result = pd.DataFrame()\n",
    "for idx, row in in_data_resample.iterrows():\n",
    "    # print(row)\n",
    "    if row['start_time'] == 'false':\n",
    "        pass\n",
    "\n",
    "    elif row['start_time'] == '길이부족':\n",
    "        pass\n",
    "\n",
    "    else:\n",
    "        print(row['indata_cd'], row['start_time_2'], row['end_time_2'])\n",
    "        sample = df_pm10_drop[df_pm10_drop['in_id'] == row['indata_cd']]\n",
    "        in_serial = sample.iloc[1,0]\n",
    "\n",
    "        filtered_df =sample.loc[sample[\"time_day\"].between(row['start_time_2'], row['end_time_2'])] #7일 기간 filtering\n",
    "\n",
    "        filtered_df['time_m']= filtered_df['time'].apply(lambda _ : datetime.strptime(_,'%Y-%m-%d %H:%M:%S'))\n",
    "        #filtered_df['time_day']= filtered_df['time_day'].apply(lambda _ : datetime.strptime(_,'%Y-%m-%d'))\n",
    "        filtered_df = filtered_df.set_index(keys='time_m')\n",
    "        filtered_df_result = filtered_df.resample(rule='10T').mean() # 10분 단위로 resampling\n",
    "        print(len(filtered_df_result)) # 데이터 길이 출력\n",
    "        if len(filtered_df_result) < 1008 :\n",
    "            print(row['indata_cd'])\n",
    "\n",
    "        dict = {'in_serial': in_serial,'in_id': row['indata_cd'],'time_day':filtered_df_result.index,'in_pm10_day': filtered_df_result['in_pm10'].values} # 가공된 in_id를 dict에 저장\n",
    "        update= pd.DataFrame(dict)\n",
    "        df_pm10_7day_result = pd.concat([df_pm10_7day_result,update], ignore_index=True)"
   ]
  },
  {
   "cell_type": "code",
   "execution_count": 15,
   "metadata": {
    "pycharm": {
     "name": "#%%\n"
    }
   },
   "outputs": [
    {
     "data": {
      "text/html": [
       "<div>\n",
       "<style scoped>\n",
       "    .dataframe tbody tr th:only-of-type {\n",
       "        vertical-align: middle;\n",
       "    }\n",
       "\n",
       "    .dataframe tbody tr th {\n",
       "        vertical-align: top;\n",
       "    }\n",
       "\n",
       "    .dataframe thead th {\n",
       "        text-align: right;\n",
       "    }\n",
       "</style>\n",
       "<table border=\"1\" class=\"dataframe\">\n",
       "  <thead>\n",
       "    <tr style=\"text-align: right;\">\n",
       "      <th></th>\n",
       "      <th>in_serial</th>\n",
       "      <th>in_id</th>\n",
       "      <th>time_day</th>\n",
       "      <th>in_pm10_day</th>\n",
       "    </tr>\n",
       "  </thead>\n",
       "  <tbody>\n",
       "    <tr>\n",
       "      <th>0</th>\n",
       "      <td>요양원</td>\n",
       "      <td>ICL1L2000011</td>\n",
       "      <td>2020-07-22 00:00:00</td>\n",
       "      <td>21.5</td>\n",
       "    </tr>\n",
       "    <tr>\n",
       "      <th>1</th>\n",
       "      <td>요양원</td>\n",
       "      <td>ICL1L2000011</td>\n",
       "      <td>2020-07-22 00:10:00</td>\n",
       "      <td>22.3</td>\n",
       "    </tr>\n",
       "    <tr>\n",
       "      <th>2</th>\n",
       "      <td>요양원</td>\n",
       "      <td>ICL1L2000011</td>\n",
       "      <td>2020-07-22 00:20:00</td>\n",
       "      <td>21.8</td>\n",
       "    </tr>\n",
       "    <tr>\n",
       "      <th>3</th>\n",
       "      <td>요양원</td>\n",
       "      <td>ICL1L2000011</td>\n",
       "      <td>2020-07-22 00:30:00</td>\n",
       "      <td>21.5</td>\n",
       "    </tr>\n",
       "    <tr>\n",
       "      <th>4</th>\n",
       "      <td>요양원</td>\n",
       "      <td>ICL1L2000011</td>\n",
       "      <td>2020-07-22 00:40:00</td>\n",
       "      <td>21.5</td>\n",
       "    </tr>\n",
       "    <tr>\n",
       "      <th>...</th>\n",
       "      <td>...</td>\n",
       "      <td>...</td>\n",
       "      <td>...</td>\n",
       "      <td>...</td>\n",
       "    </tr>\n",
       "    <tr>\n",
       "      <th>153206</th>\n",
       "      <td>요양원</td>\n",
       "      <td>IS70W2000858</td>\n",
       "      <td>2021-04-29 23:10:00</td>\n",
       "      <td>11.1</td>\n",
       "    </tr>\n",
       "    <tr>\n",
       "      <th>153207</th>\n",
       "      <td>요양원</td>\n",
       "      <td>IS70W2000858</td>\n",
       "      <td>2021-04-29 23:20:00</td>\n",
       "      <td>10.6</td>\n",
       "    </tr>\n",
       "    <tr>\n",
       "      <th>153208</th>\n",
       "      <td>요양원</td>\n",
       "      <td>IS70W2000858</td>\n",
       "      <td>2021-04-29 23:30:00</td>\n",
       "      <td>11.1</td>\n",
       "    </tr>\n",
       "    <tr>\n",
       "      <th>153209</th>\n",
       "      <td>요양원</td>\n",
       "      <td>IS70W2000858</td>\n",
       "      <td>2021-04-29 23:40:00</td>\n",
       "      <td>9.8</td>\n",
       "    </tr>\n",
       "    <tr>\n",
       "      <th>153210</th>\n",
       "      <td>요양원</td>\n",
       "      <td>IS70W2000858</td>\n",
       "      <td>2021-04-29 23:50:00</td>\n",
       "      <td>9.6</td>\n",
       "    </tr>\n",
       "  </tbody>\n",
       "</table>\n",
       "<p>153211 rows × 4 columns</p>\n",
       "</div>"
      ],
      "text/plain": [
       "       in_serial         in_id            time_day  in_pm10_day\n",
       "0            요양원  ICL1L2000011 2020-07-22 00:00:00         21.5\n",
       "1            요양원  ICL1L2000011 2020-07-22 00:10:00         22.3\n",
       "2            요양원  ICL1L2000011 2020-07-22 00:20:00         21.8\n",
       "3            요양원  ICL1L2000011 2020-07-22 00:30:00         21.5\n",
       "4            요양원  ICL1L2000011 2020-07-22 00:40:00         21.5\n",
       "...          ...           ...                 ...          ...\n",
       "153206       요양원  IS70W2000858 2021-04-29 23:10:00         11.1\n",
       "153207       요양원  IS70W2000858 2021-04-29 23:20:00         10.6\n",
       "153208       요양원  IS70W2000858 2021-04-29 23:30:00         11.1\n",
       "153209       요양원  IS70W2000858 2021-04-29 23:40:00          9.8\n",
       "153210       요양원  IS70W2000858 2021-04-29 23:50:00          9.6\n",
       "\n",
       "[153211 rows x 4 columns]"
      ]
     },
     "execution_count": 15,
     "metadata": {},
     "output_type": "execute_result"
    }
   ],
   "source": [
    "df_pm10_7day_result"
   ]
  },
  {
   "cell_type": "code",
   "execution_count": 16,
   "metadata": {
    "pycharm": {
     "name": "#%%\n"
    }
   },
   "outputs": [],
   "source": [
    "# 7일 기간 데이터 csv로 저장\n",
    "address = './Dataset'\n",
    "df_pm10_7day_result.to_csv(os.path.join(address,'df_pm10_7day_result_1110.csv'), encoding=\"cp949\", index=False)"
   ]
  },
  {
   "cell_type": "code",
   "execution_count": null,
   "metadata": {
    "pycharm": {
     "name": "#%%\n"
    }
   },
   "outputs": [],
   "source": []
  }
 ],
 "metadata": {
  "kernelspec": {
   "display_name": "Air_pred",
   "language": "python",
   "name": "air_pred"
  },
  "language_info": {
   "codemirror_mode": {
    "name": "ipython",
    "version": 3
   },
   "file_extension": ".py",
   "mimetype": "text/x-python",
   "name": "python",
   "nbconvert_exporter": "python",
   "pygments_lexer": "ipython3",
   "version": "3.8.12"
  }
 },
 "nbformat": 4,
 "nbformat_minor": 1
}
