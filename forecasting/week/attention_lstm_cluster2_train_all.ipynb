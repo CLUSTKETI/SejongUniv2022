{
 "cells": [
  {
   "cell_type": "code",
   "execution_count": 1,
   "metadata": {},
   "outputs": [
    {
     "name": "stdout",
     "output_type": "stream",
     "text": [
      "Train with random seed 743\n"
     ]
    },
    {
     "name": "stderr",
     "output_type": "stream",
     "text": [
      "c:\\programdata\\anaconda3\\envs\\at\\lib\\site-packages\\tensorflow\\python\\framework\\dtypes.py:526: FutureWarning: Passing (type, 1) or '1type' as a synonym of type is deprecated; in a future version of numpy, it will be understood as (type, (1,)) / '(1,)type'.\n",
      "  _np_qint8 = np.dtype([(\"qint8\", np.int8, 1)])\n",
      "c:\\programdata\\anaconda3\\envs\\at\\lib\\site-packages\\tensorflow\\python\\framework\\dtypes.py:527: FutureWarning: Passing (type, 1) or '1type' as a synonym of type is deprecated; in a future version of numpy, it will be understood as (type, (1,)) / '(1,)type'.\n",
      "  _np_quint8 = np.dtype([(\"quint8\", np.uint8, 1)])\n",
      "c:\\programdata\\anaconda3\\envs\\at\\lib\\site-packages\\tensorflow\\python\\framework\\dtypes.py:528: FutureWarning: Passing (type, 1) or '1type' as a synonym of type is deprecated; in a future version of numpy, it will be understood as (type, (1,)) / '(1,)type'.\n",
      "  _np_qint16 = np.dtype([(\"qint16\", np.int16, 1)])\n",
      "c:\\programdata\\anaconda3\\envs\\at\\lib\\site-packages\\tensorflow\\python\\framework\\dtypes.py:529: FutureWarning: Passing (type, 1) or '1type' as a synonym of type is deprecated; in a future version of numpy, it will be understood as (type, (1,)) / '(1,)type'.\n",
      "  _np_quint16 = np.dtype([(\"quint16\", np.uint16, 1)])\n",
      "c:\\programdata\\anaconda3\\envs\\at\\lib\\site-packages\\tensorflow\\python\\framework\\dtypes.py:530: FutureWarning: Passing (type, 1) or '1type' as a synonym of type is deprecated; in a future version of numpy, it will be understood as (type, (1,)) / '(1,)type'.\n",
      "  _np_qint32 = np.dtype([(\"qint32\", np.int32, 1)])\n",
      "c:\\programdata\\anaconda3\\envs\\at\\lib\\site-packages\\tensorflow\\python\\framework\\dtypes.py:535: FutureWarning: Passing (type, 1) or '1type' as a synonym of type is deprecated; in a future version of numpy, it will be understood as (type, (1,)) / '(1,)type'.\n",
      "  np_resource = np.dtype([(\"resource\", np.ubyte, 1)])\n",
      "C:\\Users\\user\\AppData\\Roaming\\Python\\Python36\\site-packages\\requests\\__init__.py:80: RequestsDependencyWarning: urllib3 (1.26.7) or chardet (4.0.0) doesn't match a supported version!\n",
      "  RequestsDependencyWarning)\n",
      "Using TensorFlow backend.\n"
     ]
    }
   ],
   "source": [
    "#!/usr/bin/env python\n",
    "# coding: utf-8\n",
    "seed_value = 743\n",
    "# 모델의 reproducibility를 위해 random seed를 고정함\n",
    "print(\"Train with random seed\", seed_value)\n",
    "\n",
    "import os\n",
    "os.environ['PYTHONHASHSEED'] = str(seed_value)\n",
    "import random\n",
    "random.seed(seed_value)\n",
    "import numpy as np\n",
    "np.random.seed(seed_value)\n",
    "import tensorflow as tf\n",
    "tf.set_random_seed(seed_value)\n",
    "from keras import backend as K\n",
    "session_conf = tf.ConfigProto(intra_op_parallelism_threads=1, inter_op_parallelism_threads=1)\n",
    "sess = tf.Session(graph=tf.get_default_graph(), config=session_conf)\n",
    "K.set_session(sess)"
   ]
  },
  {
   "cell_type": "code",
   "execution_count": 2,
   "metadata": {},
   "outputs": [],
   "source": [
    "import warnings\n",
    "warnings.filterwarnings('ignore')\n",
    "\n",
    "# 그래프를 그리기 위한 matplotlib 및 기타 utility 라이브러리를 import함\n",
    "import pickle\n",
    "import pandas as pd\n",
    "from tqdm import trange\n",
    "import matplotlib.pyplot as plt\n",
    "import matplotlib\n",
    "import matplotlib.font_manager as font_manager\n",
    "# matplotlib를 사용해 그래프를 그릴 때 사용할 글꼴을 설정함\n",
    "font_dirs = ['.']\n",
    "font_files = font_manager.findSystemFonts(fontpaths=font_dirs)\n",
    "font_list = font_manager.createFontList(font_files)\n",
    "font_manager.fontManager.ttflist.extend(font_list)\n",
    "matplotlib.rcParams['font.family'] = 'Malgun Gothic'"
   ]
  },
  {
   "cell_type": "code",
   "execution_count": 3,
   "metadata": {},
   "outputs": [],
   "source": [
    "from sklearn.preprocessing import MinMaxScaler  # 데이터 정규화에 사용할 MinMaxScaler import\n",
    "from sklearn.metrics import mean_squared_error  # MSE 성능 지표를 계산하기 하기 위한 함수 import\n",
    "\n",
    "# 모델을 구축하기 위한 keras 관련 함수 import\n",
    "from keras.models import *\n",
    "from keras.layers import Lambda, RepeatVector\n",
    "from keras.layers import Input, multiply\n",
    "from keras.layers import Dense, LSTM, Dropout, Flatten\n",
    "from keras import regularizers"
   ]
  },
  {
   "cell_type": "code",
   "execution_count": 4,
   "metadata": {},
   "outputs": [],
   "source": [
    "def mean_absolute_percentage_error(y_true, y_pred):\n",
    "    \"\"\"MAPE 성능 지표를 계산하기 위한 함수 정의\"\"\"\n",
    "    y_true, y_pred = np.array(y_true), np.array(y_pred)\n",
    "    return np.mean(np.abs((y_true - y_pred) / y_true)) * 100"
   ]
  },
  {
   "cell_type": "code",
   "execution_count": 5,
   "metadata": {},
   "outputs": [],
   "source": [
    "# Define the function to return the SMAPE value\n",
    "def calculate_smape(actual, predicted) -> float:\n",
    "    \"\"\"SMAPE 성능 지표를 계산하기 위한 함수 정의\"\"\"\n",
    "  \n",
    "    # Convert actual and predicted to numpy\n",
    "    # array data type if not already\n",
    "    if not all([isinstance(actual, np.ndarray), \n",
    "                isinstance(predicted, np.ndarray)]):\n",
    "        actual, predicted = np.array(actual),\n",
    "        np.array(predicted)\n",
    "  \n",
    "    return round(\n",
    "        np.mean(\n",
    "            np.abs(predicted - actual) / \n",
    "            ((np.abs(predicted) + np.abs(actual))/2)\n",
    "        )*100, 2\n",
    "    )"
   ]
  },
  {
   "cell_type": "code",
   "execution_count": 6,
   "metadata": {},
   "outputs": [],
   "source": [
    "# 클러스터링을 진행한 CSV 데이터 파일의 path를 설정함\n",
    "data_filename = '../data/PM10_clustering_result_1010.csv'\n",
    "detrended_df = pd.read_csv(data_filename)  # Pandas의 read_csv 함수를 이용해 CSV 파일을 읽음"
   ]
  },
  {
   "cell_type": "code",
   "execution_count": 7,
   "metadata": {},
   "outputs": [
    {
     "data": {
      "text/html": [
       "<div>\n",
       "<style scoped>\n",
       "    .dataframe tbody tr th:only-of-type {\n",
       "        vertical-align: middle;\n",
       "    }\n",
       "\n",
       "    .dataframe tbody tr th {\n",
       "        vertical-align: top;\n",
       "    }\n",
       "\n",
       "    .dataframe thead th {\n",
       "        text-align: right;\n",
       "    }\n",
       "</style>\n",
       "<table border=\"1\" class=\"dataframe\">\n",
       "  <thead>\n",
       "    <tr style=\"text-align: right;\">\n",
       "      <th></th>\n",
       "      <th>in_id</th>\n",
       "      <th>0</th>\n",
       "      <th>1</th>\n",
       "      <th>2</th>\n",
       "      <th>3</th>\n",
       "      <th>4</th>\n",
       "      <th>5</th>\n",
       "      <th>6</th>\n",
       "      <th>7</th>\n",
       "      <th>8</th>\n",
       "      <th>...</th>\n",
       "      <th>999</th>\n",
       "      <th>1000</th>\n",
       "      <th>1001</th>\n",
       "      <th>1002</th>\n",
       "      <th>1003</th>\n",
       "      <th>1004</th>\n",
       "      <th>1005</th>\n",
       "      <th>1006</th>\n",
       "      <th>1007</th>\n",
       "      <th>Cluster</th>\n",
       "    </tr>\n",
       "  </thead>\n",
       "  <tbody>\n",
       "    <tr>\n",
       "      <th>0</th>\n",
       "      <td>ICL1L2000011</td>\n",
       "      <td>21.5</td>\n",
       "      <td>22.3</td>\n",
       "      <td>21.8</td>\n",
       "      <td>21.5</td>\n",
       "      <td>21.5</td>\n",
       "      <td>21.1</td>\n",
       "      <td>20.3</td>\n",
       "      <td>21.777778</td>\n",
       "      <td>22.4</td>\n",
       "      <td>...</td>\n",
       "      <td>4.2</td>\n",
       "      <td>4.3</td>\n",
       "      <td>3.6</td>\n",
       "      <td>4.0</td>\n",
       "      <td>3.8</td>\n",
       "      <td>4.0</td>\n",
       "      <td>3.9</td>\n",
       "      <td>4.1</td>\n",
       "      <td>4.3</td>\n",
       "      <td>Cluster -1</td>\n",
       "    </tr>\n",
       "    <tr>\n",
       "      <th>1</th>\n",
       "      <td>ICL1L2000017</td>\n",
       "      <td>11.4</td>\n",
       "      <td>11.3</td>\n",
       "      <td>11.3</td>\n",
       "      <td>11.5</td>\n",
       "      <td>11.1</td>\n",
       "      <td>11.8</td>\n",
       "      <td>12.0</td>\n",
       "      <td>12.200000</td>\n",
       "      <td>12.4</td>\n",
       "      <td>...</td>\n",
       "      <td>3.8</td>\n",
       "      <td>3.8</td>\n",
       "      <td>4.4</td>\n",
       "      <td>3.9</td>\n",
       "      <td>3.3</td>\n",
       "      <td>3.6</td>\n",
       "      <td>4.1</td>\n",
       "      <td>5.5</td>\n",
       "      <td>7.2</td>\n",
       "      <td>Cluster -1</td>\n",
       "    </tr>\n",
       "    <tr>\n",
       "      <th>2</th>\n",
       "      <td>ICL1L2000064</td>\n",
       "      <td>15.3</td>\n",
       "      <td>15.2</td>\n",
       "      <td>16.1</td>\n",
       "      <td>14.5</td>\n",
       "      <td>16.9</td>\n",
       "      <td>15.3</td>\n",
       "      <td>15.5</td>\n",
       "      <td>15.500000</td>\n",
       "      <td>15.9</td>\n",
       "      <td>...</td>\n",
       "      <td>18.4</td>\n",
       "      <td>17.9</td>\n",
       "      <td>19.8</td>\n",
       "      <td>19.1</td>\n",
       "      <td>19.3</td>\n",
       "      <td>19.8</td>\n",
       "      <td>21.8</td>\n",
       "      <td>20.7</td>\n",
       "      <td>21.7</td>\n",
       "      <td>Cluster -1</td>\n",
       "    </tr>\n",
       "    <tr>\n",
       "      <th>3</th>\n",
       "      <td>ICL1L2000065</td>\n",
       "      <td>16.2</td>\n",
       "      <td>16.2</td>\n",
       "      <td>16.6</td>\n",
       "      <td>16.7</td>\n",
       "      <td>16.9</td>\n",
       "      <td>16.6</td>\n",
       "      <td>16.8</td>\n",
       "      <td>17.100000</td>\n",
       "      <td>17.3</td>\n",
       "      <td>...</td>\n",
       "      <td>12.4</td>\n",
       "      <td>12.1</td>\n",
       "      <td>12.5</td>\n",
       "      <td>13.3</td>\n",
       "      <td>13.8</td>\n",
       "      <td>14.0</td>\n",
       "      <td>14.7</td>\n",
       "      <td>14.2</td>\n",
       "      <td>14.8</td>\n",
       "      <td>Cluster -1</td>\n",
       "    </tr>\n",
       "    <tr>\n",
       "      <th>4</th>\n",
       "      <td>ICL1L2000234</td>\n",
       "      <td>43.3</td>\n",
       "      <td>43.5</td>\n",
       "      <td>42.5</td>\n",
       "      <td>41.9</td>\n",
       "      <td>42.2</td>\n",
       "      <td>41.8</td>\n",
       "      <td>42.8</td>\n",
       "      <td>42.800000</td>\n",
       "      <td>42.9</td>\n",
       "      <td>...</td>\n",
       "      <td>36.9</td>\n",
       "      <td>36.8</td>\n",
       "      <td>37.2</td>\n",
       "      <td>36.9</td>\n",
       "      <td>37.1</td>\n",
       "      <td>37.5</td>\n",
       "      <td>37.1</td>\n",
       "      <td>37.5</td>\n",
       "      <td>37.0</td>\n",
       "      <td>Cluster 0</td>\n",
       "    </tr>\n",
       "  </tbody>\n",
       "</table>\n",
       "<p>5 rows × 1010 columns</p>\n",
       "</div>"
      ],
      "text/plain": [
       "          in_id     0     1     2     3     4     5     6          7     8  \\\n",
       "0  ICL1L2000011  21.5  22.3  21.8  21.5  21.5  21.1  20.3  21.777778  22.4   \n",
       "1  ICL1L2000017  11.4  11.3  11.3  11.5  11.1  11.8  12.0  12.200000  12.4   \n",
       "2  ICL1L2000064  15.3  15.2  16.1  14.5  16.9  15.3  15.5  15.500000  15.9   \n",
       "3  ICL1L2000065  16.2  16.2  16.6  16.7  16.9  16.6  16.8  17.100000  17.3   \n",
       "4  ICL1L2000234  43.3  43.5  42.5  41.9  42.2  41.8  42.8  42.800000  42.9   \n",
       "\n",
       "      ...       999  1000  1001  1002  1003  1004  1005  1006  1007  \\\n",
       "0     ...       4.2   4.3   3.6   4.0   3.8   4.0   3.9   4.1   4.3   \n",
       "1     ...       3.8   3.8   4.4   3.9   3.3   3.6   4.1   5.5   7.2   \n",
       "2     ...      18.4  17.9  19.8  19.1  19.3  19.8  21.8  20.7  21.7   \n",
       "3     ...      12.4  12.1  12.5  13.3  13.8  14.0  14.7  14.2  14.8   \n",
       "4     ...      36.9  36.8  37.2  36.9  37.1  37.5  37.1  37.5  37.0   \n",
       "\n",
       "      Cluster  \n",
       "0  Cluster -1  \n",
       "1  Cluster -1  \n",
       "2  Cluster -1  \n",
       "3  Cluster -1  \n",
       "4   Cluster 0  \n",
       "\n",
       "[5 rows x 1010 columns]"
      ]
     },
     "execution_count": 7,
     "metadata": {},
     "output_type": "execute_result"
    }
   ],
   "source": [
    "detrended_df.head()"
   ]
  },
  {
   "cell_type": "code",
   "execution_count": 8,
   "metadata": {},
   "outputs": [
    {
     "data": {
      "text/plain": [
       "Cluster -1    103\n",
       "Cluster 0      17\n",
       "Cluster 2       7\n",
       "Cluster 8       5\n",
       "Cluster 4       4\n",
       "Cluster 1       4\n",
       "Cluster 6       3\n",
       "Cluster 5       3\n",
       "Cluster 3       3\n",
       "Cluster 7       3\n",
       "Name: Cluster, dtype: int64"
      ]
     },
     "execution_count": 8,
     "metadata": {},
     "output_type": "execute_result"
    }
   ],
   "source": [
    "detrended_df['Cluster'].value_counts()  # 각 클러스터에 포함된 시계열 데이터의 샘플 수 확인"
   ]
  },
  {
   "cell_type": "code",
   "execution_count": 9,
   "metadata": {},
   "outputs": [],
   "source": [
    "specific_df = detrended_df  # 모든 클러스터의 데이터를 사용해 훈련함"
   ]
  },
  {
   "cell_type": "code",
   "execution_count": 10,
   "metadata": {},
   "outputs": [],
   "source": [
    "cluster_row_num = len(specific_df)  # 클러스터의 시계열 데이터의 샘플 수 계산"
   ]
  },
  {
   "cell_type": "code",
   "execution_count": 11,
   "metadata": {},
   "outputs": [],
   "source": [
    "def get_split_row_index(total_row, train_split=0.6):\n",
    "    \"\"\"DataFrame을 train, test, validation으로 나누기 위한 helper 함수\"\"\"\n",
    "    train_data_up = int(total_row * train_split)\n",
    "    remain_data_row = cluster_row_num - train_data_up\n",
    "    \n",
    "    # test set과 validation set의 row 수가 같도록\n",
    "    # train, test, valid split을 진행함\n",
    "    if remain_data_row % 2 == 1:\n",
    "        train_data_up += 1\n",
    "        remain_data_row -= 1\n",
    "    \n",
    "    valid_data_up = int(remain_data_row / 2)\n",
    "    \n",
    "    assert train_data_up + valid_data_up * 2 == total_row\n",
    "    \n",
    "    return train_data_up, train_data_up + valid_data_up"
   ]
  },
  {
   "cell_type": "code",
   "execution_count": 12,
   "metadata": {},
   "outputs": [
    {
     "data": {
      "text/html": [
       "<div>\n",
       "<style scoped>\n",
       "    .dataframe tbody tr th:only-of-type {\n",
       "        vertical-align: middle;\n",
       "    }\n",
       "\n",
       "    .dataframe tbody tr th {\n",
       "        vertical-align: top;\n",
       "    }\n",
       "\n",
       "    .dataframe thead th {\n",
       "        text-align: right;\n",
       "    }\n",
       "</style>\n",
       "<table border=\"1\" class=\"dataframe\">\n",
       "  <thead>\n",
       "    <tr style=\"text-align: right;\">\n",
       "      <th></th>\n",
       "      <th>in_id</th>\n",
       "      <th>0</th>\n",
       "      <th>1</th>\n",
       "      <th>2</th>\n",
       "      <th>3</th>\n",
       "      <th>4</th>\n",
       "      <th>5</th>\n",
       "      <th>6</th>\n",
       "      <th>7</th>\n",
       "      <th>8</th>\n",
       "      <th>...</th>\n",
       "      <th>999</th>\n",
       "      <th>1000</th>\n",
       "      <th>1001</th>\n",
       "      <th>1002</th>\n",
       "      <th>1003</th>\n",
       "      <th>1004</th>\n",
       "      <th>1005</th>\n",
       "      <th>1006</th>\n",
       "      <th>1007</th>\n",
       "      <th>Cluster</th>\n",
       "    </tr>\n",
       "  </thead>\n",
       "  <tbody>\n",
       "    <tr>\n",
       "      <th>0</th>\n",
       "      <td>ICL1L2000011</td>\n",
       "      <td>21.5</td>\n",
       "      <td>22.3</td>\n",
       "      <td>21.8</td>\n",
       "      <td>21.5</td>\n",
       "      <td>21.5</td>\n",
       "      <td>21.1</td>\n",
       "      <td>20.3</td>\n",
       "      <td>21.777778</td>\n",
       "      <td>22.4</td>\n",
       "      <td>...</td>\n",
       "      <td>4.2</td>\n",
       "      <td>4.3</td>\n",
       "      <td>3.6</td>\n",
       "      <td>4.0</td>\n",
       "      <td>3.8</td>\n",
       "      <td>4.0</td>\n",
       "      <td>3.9</td>\n",
       "      <td>4.1</td>\n",
       "      <td>4.3</td>\n",
       "      <td>Cluster -1</td>\n",
       "    </tr>\n",
       "    <tr>\n",
       "      <th>1</th>\n",
       "      <td>ICL1L2000017</td>\n",
       "      <td>11.4</td>\n",
       "      <td>11.3</td>\n",
       "      <td>11.3</td>\n",
       "      <td>11.5</td>\n",
       "      <td>11.1</td>\n",
       "      <td>11.8</td>\n",
       "      <td>12.0</td>\n",
       "      <td>12.200000</td>\n",
       "      <td>12.4</td>\n",
       "      <td>...</td>\n",
       "      <td>3.8</td>\n",
       "      <td>3.8</td>\n",
       "      <td>4.4</td>\n",
       "      <td>3.9</td>\n",
       "      <td>3.3</td>\n",
       "      <td>3.6</td>\n",
       "      <td>4.1</td>\n",
       "      <td>5.5</td>\n",
       "      <td>7.2</td>\n",
       "      <td>Cluster -1</td>\n",
       "    </tr>\n",
       "    <tr>\n",
       "      <th>2</th>\n",
       "      <td>ICL1L2000064</td>\n",
       "      <td>15.3</td>\n",
       "      <td>15.2</td>\n",
       "      <td>16.1</td>\n",
       "      <td>14.5</td>\n",
       "      <td>16.9</td>\n",
       "      <td>15.3</td>\n",
       "      <td>15.5</td>\n",
       "      <td>15.500000</td>\n",
       "      <td>15.9</td>\n",
       "      <td>...</td>\n",
       "      <td>18.4</td>\n",
       "      <td>17.9</td>\n",
       "      <td>19.8</td>\n",
       "      <td>19.1</td>\n",
       "      <td>19.3</td>\n",
       "      <td>19.8</td>\n",
       "      <td>21.8</td>\n",
       "      <td>20.7</td>\n",
       "      <td>21.7</td>\n",
       "      <td>Cluster -1</td>\n",
       "    </tr>\n",
       "    <tr>\n",
       "      <th>3</th>\n",
       "      <td>ICL1L2000065</td>\n",
       "      <td>16.2</td>\n",
       "      <td>16.2</td>\n",
       "      <td>16.6</td>\n",
       "      <td>16.7</td>\n",
       "      <td>16.9</td>\n",
       "      <td>16.6</td>\n",
       "      <td>16.8</td>\n",
       "      <td>17.100000</td>\n",
       "      <td>17.3</td>\n",
       "      <td>...</td>\n",
       "      <td>12.4</td>\n",
       "      <td>12.1</td>\n",
       "      <td>12.5</td>\n",
       "      <td>13.3</td>\n",
       "      <td>13.8</td>\n",
       "      <td>14.0</td>\n",
       "      <td>14.7</td>\n",
       "      <td>14.2</td>\n",
       "      <td>14.8</td>\n",
       "      <td>Cluster -1</td>\n",
       "    </tr>\n",
       "    <tr>\n",
       "      <th>4</th>\n",
       "      <td>ICL1L2000234</td>\n",
       "      <td>43.3</td>\n",
       "      <td>43.5</td>\n",
       "      <td>42.5</td>\n",
       "      <td>41.9</td>\n",
       "      <td>42.2</td>\n",
       "      <td>41.8</td>\n",
       "      <td>42.8</td>\n",
       "      <td>42.800000</td>\n",
       "      <td>42.9</td>\n",
       "      <td>...</td>\n",
       "      <td>36.9</td>\n",
       "      <td>36.8</td>\n",
       "      <td>37.2</td>\n",
       "      <td>36.9</td>\n",
       "      <td>37.1</td>\n",
       "      <td>37.5</td>\n",
       "      <td>37.1</td>\n",
       "      <td>37.5</td>\n",
       "      <td>37.0</td>\n",
       "      <td>Cluster 0</td>\n",
       "    </tr>\n",
       "  </tbody>\n",
       "</table>\n",
       "<p>5 rows × 1010 columns</p>\n",
       "</div>"
      ],
      "text/plain": [
       "          in_id     0     1     2     3     4     5     6          7     8  \\\n",
       "0  ICL1L2000011  21.5  22.3  21.8  21.5  21.5  21.1  20.3  21.777778  22.4   \n",
       "1  ICL1L2000017  11.4  11.3  11.3  11.5  11.1  11.8  12.0  12.200000  12.4   \n",
       "2  ICL1L2000064  15.3  15.2  16.1  14.5  16.9  15.3  15.5  15.500000  15.9   \n",
       "3  ICL1L2000065  16.2  16.2  16.6  16.7  16.9  16.6  16.8  17.100000  17.3   \n",
       "4  ICL1L2000234  43.3  43.5  42.5  41.9  42.2  41.8  42.8  42.800000  42.9   \n",
       "\n",
       "      ...       999  1000  1001  1002  1003  1004  1005  1006  1007  \\\n",
       "0     ...       4.2   4.3   3.6   4.0   3.8   4.0   3.9   4.1   4.3   \n",
       "1     ...       3.8   3.8   4.4   3.9   3.3   3.6   4.1   5.5   7.2   \n",
       "2     ...      18.4  17.9  19.8  19.1  19.3  19.8  21.8  20.7  21.7   \n",
       "3     ...      12.4  12.1  12.5  13.3  13.8  14.0  14.7  14.2  14.8   \n",
       "4     ...      36.9  36.8  37.2  36.9  37.1  37.5  37.1  37.5  37.0   \n",
       "\n",
       "      Cluster  \n",
       "0  Cluster -1  \n",
       "1  Cluster -1  \n",
       "2  Cluster -1  \n",
       "3  Cluster -1  \n",
       "4   Cluster 0  \n",
       "\n",
       "[5 rows x 1010 columns]"
      ]
     },
     "execution_count": 12,
     "metadata": {},
     "output_type": "execute_result"
    }
   ],
   "source": [
    "specific_df.head()"
   ]
  },
  {
   "cell_type": "code",
   "execution_count": 13,
   "metadata": {},
   "outputs": [],
   "source": [
    "# 특정 index id를 가진 시계열 데이터 샘플을 validation set으로 사용함\n",
    "valid_items = ['ICL1L2000281']\n",
    "valid_df = specific_df[specific_df['in_id'].isin(valid_items)]"
   ]
  },
  {
   "cell_type": "code",
   "execution_count": 14,
   "metadata": {},
   "outputs": [],
   "source": [
    "# 특정 index id를 가진 시계열 데이터 샘플을 test set으로 사용함\n",
    "test_items = ['ICL1L2000283']\n",
    "test_df = specific_df[specific_df['in_id'].isin(test_items)]"
   ]
  },
  {
   "cell_type": "code",
   "execution_count": 15,
   "metadata": {},
   "outputs": [
    {
     "data": {
      "text/html": [
       "<div>\n",
       "<style scoped>\n",
       "    .dataframe tbody tr th:only-of-type {\n",
       "        vertical-align: middle;\n",
       "    }\n",
       "\n",
       "    .dataframe tbody tr th {\n",
       "        vertical-align: top;\n",
       "    }\n",
       "\n",
       "    .dataframe thead th {\n",
       "        text-align: right;\n",
       "    }\n",
       "</style>\n",
       "<table border=\"1\" class=\"dataframe\">\n",
       "  <thead>\n",
       "    <tr style=\"text-align: right;\">\n",
       "      <th></th>\n",
       "      <th>in_id</th>\n",
       "      <th>0</th>\n",
       "      <th>1</th>\n",
       "      <th>2</th>\n",
       "      <th>3</th>\n",
       "      <th>4</th>\n",
       "      <th>5</th>\n",
       "      <th>6</th>\n",
       "      <th>7</th>\n",
       "      <th>8</th>\n",
       "      <th>...</th>\n",
       "      <th>999</th>\n",
       "      <th>1000</th>\n",
       "      <th>1001</th>\n",
       "      <th>1002</th>\n",
       "      <th>1003</th>\n",
       "      <th>1004</th>\n",
       "      <th>1005</th>\n",
       "      <th>1006</th>\n",
       "      <th>1007</th>\n",
       "      <th>Cluster</th>\n",
       "    </tr>\n",
       "  </thead>\n",
       "  <tbody>\n",
       "    <tr>\n",
       "      <th>44</th>\n",
       "      <td>ICL1L2000283</td>\n",
       "      <td>24.3</td>\n",
       "      <td>23.9</td>\n",
       "      <td>24.2</td>\n",
       "      <td>23.4</td>\n",
       "      <td>23.8</td>\n",
       "      <td>24.5</td>\n",
       "      <td>23.8</td>\n",
       "      <td>24.1</td>\n",
       "      <td>23.8</td>\n",
       "      <td>...</td>\n",
       "      <td>34.9</td>\n",
       "      <td>34.2</td>\n",
       "      <td>33.0</td>\n",
       "      <td>33.0</td>\n",
       "      <td>34.7</td>\n",
       "      <td>35.2</td>\n",
       "      <td>35.6</td>\n",
       "      <td>36.0</td>\n",
       "      <td>36.1</td>\n",
       "      <td>Cluster 2</td>\n",
       "    </tr>\n",
       "  </tbody>\n",
       "</table>\n",
       "<p>1 rows × 1010 columns</p>\n",
       "</div>"
      ],
      "text/plain": [
       "           in_id     0     1     2     3     4     5     6     7     8  \\\n",
       "44  ICL1L2000283  24.3  23.9  24.2  23.4  23.8  24.5  23.8  24.1  23.8   \n",
       "\n",
       "      ...       999  1000  1001  1002  1003  1004  1005  1006  1007    Cluster  \n",
       "44    ...      34.9  34.2  33.0  33.0  34.7  35.2  35.6  36.0  36.1  Cluster 2  \n",
       "\n",
       "[1 rows x 1010 columns]"
      ]
     },
     "execution_count": 15,
     "metadata": {},
     "output_type": "execute_result"
    }
   ],
   "source": [
    "test_df"
   ]
  },
  {
   "cell_type": "code",
   "execution_count": 16,
   "metadata": {},
   "outputs": [],
   "source": [
    "# validation set과 test set을 제외한 나머지 모든 클러스터의 데이터 샘플을 훈련 데이터 셋으로 사용함\n",
    "train_df = specific_df[~specific_df['in_id'].isin(valid_items + test_items)]"
   ]
  },
  {
   "cell_type": "code",
   "execution_count": 17,
   "metadata": {},
   "outputs": [
    {
     "name": "stdout",
     "output_type": "stream",
     "text": [
      "Train DataFrame row:  150\n",
      "Valid DataFrame row:  1\n",
      "Test DataFrame row:  1\n"
     ]
    }
   ],
   "source": [
    "# 각 DataFrame에 포함된 0 값의 갯 수를 확인함\n",
    "print(\"Train DataFrame row: \", len(train_df))\n",
    "print(\"Valid DataFrame row: \", len(valid_df))\n",
    "print(\"Test DataFrame row: \", len(test_df))"
   ]
  },
  {
   "cell_type": "code",
   "execution_count": 18,
   "metadata": {},
   "outputs": [],
   "source": [
    "assert len(train_df) + len(valid_df) + len(test_df) == cluster_row_num"
   ]
  },
  {
   "cell_type": "code",
   "execution_count": 19,
   "metadata": {},
   "outputs": [
    {
     "data": {
      "text/html": [
       "<div>\n",
       "<style scoped>\n",
       "    .dataframe tbody tr th:only-of-type {\n",
       "        vertical-align: middle;\n",
       "    }\n",
       "\n",
       "    .dataframe tbody tr th {\n",
       "        vertical-align: top;\n",
       "    }\n",
       "\n",
       "    .dataframe thead th {\n",
       "        text-align: right;\n",
       "    }\n",
       "</style>\n",
       "<table border=\"1\" class=\"dataframe\">\n",
       "  <thead>\n",
       "    <tr style=\"text-align: right;\">\n",
       "      <th></th>\n",
       "      <th>in_id</th>\n",
       "      <th>0</th>\n",
       "      <th>1</th>\n",
       "      <th>2</th>\n",
       "      <th>3</th>\n",
       "      <th>4</th>\n",
       "      <th>5</th>\n",
       "      <th>6</th>\n",
       "      <th>7</th>\n",
       "      <th>8</th>\n",
       "      <th>...</th>\n",
       "      <th>999</th>\n",
       "      <th>1000</th>\n",
       "      <th>1001</th>\n",
       "      <th>1002</th>\n",
       "      <th>1003</th>\n",
       "      <th>1004</th>\n",
       "      <th>1005</th>\n",
       "      <th>1006</th>\n",
       "      <th>1007</th>\n",
       "      <th>Cluster</th>\n",
       "    </tr>\n",
       "  </thead>\n",
       "  <tbody>\n",
       "    <tr>\n",
       "      <th>0</th>\n",
       "      <td>ICL1L2000011</td>\n",
       "      <td>21.5</td>\n",
       "      <td>22.3</td>\n",
       "      <td>21.8</td>\n",
       "      <td>21.5</td>\n",
       "      <td>21.5</td>\n",
       "      <td>21.1</td>\n",
       "      <td>20.3</td>\n",
       "      <td>21.777778</td>\n",
       "      <td>22.4</td>\n",
       "      <td>...</td>\n",
       "      <td>4.2</td>\n",
       "      <td>4.3</td>\n",
       "      <td>3.6</td>\n",
       "      <td>4.0</td>\n",
       "      <td>3.8</td>\n",
       "      <td>4.0</td>\n",
       "      <td>3.9</td>\n",
       "      <td>4.1</td>\n",
       "      <td>4.3</td>\n",
       "      <td>Cluster -1</td>\n",
       "    </tr>\n",
       "    <tr>\n",
       "      <th>1</th>\n",
       "      <td>ICL1L2000017</td>\n",
       "      <td>11.4</td>\n",
       "      <td>11.3</td>\n",
       "      <td>11.3</td>\n",
       "      <td>11.5</td>\n",
       "      <td>11.1</td>\n",
       "      <td>11.8</td>\n",
       "      <td>12.0</td>\n",
       "      <td>12.200000</td>\n",
       "      <td>12.4</td>\n",
       "      <td>...</td>\n",
       "      <td>3.8</td>\n",
       "      <td>3.8</td>\n",
       "      <td>4.4</td>\n",
       "      <td>3.9</td>\n",
       "      <td>3.3</td>\n",
       "      <td>3.6</td>\n",
       "      <td>4.1</td>\n",
       "      <td>5.5</td>\n",
       "      <td>7.2</td>\n",
       "      <td>Cluster -1</td>\n",
       "    </tr>\n",
       "    <tr>\n",
       "      <th>2</th>\n",
       "      <td>ICL1L2000064</td>\n",
       "      <td>15.3</td>\n",
       "      <td>15.2</td>\n",
       "      <td>16.1</td>\n",
       "      <td>14.5</td>\n",
       "      <td>16.9</td>\n",
       "      <td>15.3</td>\n",
       "      <td>15.5</td>\n",
       "      <td>15.500000</td>\n",
       "      <td>15.9</td>\n",
       "      <td>...</td>\n",
       "      <td>18.4</td>\n",
       "      <td>17.9</td>\n",
       "      <td>19.8</td>\n",
       "      <td>19.1</td>\n",
       "      <td>19.3</td>\n",
       "      <td>19.8</td>\n",
       "      <td>21.8</td>\n",
       "      <td>20.7</td>\n",
       "      <td>21.7</td>\n",
       "      <td>Cluster -1</td>\n",
       "    </tr>\n",
       "    <tr>\n",
       "      <th>3</th>\n",
       "      <td>ICL1L2000065</td>\n",
       "      <td>16.2</td>\n",
       "      <td>16.2</td>\n",
       "      <td>16.6</td>\n",
       "      <td>16.7</td>\n",
       "      <td>16.9</td>\n",
       "      <td>16.6</td>\n",
       "      <td>16.8</td>\n",
       "      <td>17.100000</td>\n",
       "      <td>17.3</td>\n",
       "      <td>...</td>\n",
       "      <td>12.4</td>\n",
       "      <td>12.1</td>\n",
       "      <td>12.5</td>\n",
       "      <td>13.3</td>\n",
       "      <td>13.8</td>\n",
       "      <td>14.0</td>\n",
       "      <td>14.7</td>\n",
       "      <td>14.2</td>\n",
       "      <td>14.8</td>\n",
       "      <td>Cluster -1</td>\n",
       "    </tr>\n",
       "    <tr>\n",
       "      <th>4</th>\n",
       "      <td>ICL1L2000234</td>\n",
       "      <td>43.3</td>\n",
       "      <td>43.5</td>\n",
       "      <td>42.5</td>\n",
       "      <td>41.9</td>\n",
       "      <td>42.2</td>\n",
       "      <td>41.8</td>\n",
       "      <td>42.8</td>\n",
       "      <td>42.800000</td>\n",
       "      <td>42.9</td>\n",
       "      <td>...</td>\n",
       "      <td>36.9</td>\n",
       "      <td>36.8</td>\n",
       "      <td>37.2</td>\n",
       "      <td>36.9</td>\n",
       "      <td>37.1</td>\n",
       "      <td>37.5</td>\n",
       "      <td>37.1</td>\n",
       "      <td>37.5</td>\n",
       "      <td>37.0</td>\n",
       "      <td>Cluster 0</td>\n",
       "    </tr>\n",
       "  </tbody>\n",
       "</table>\n",
       "<p>5 rows × 1010 columns</p>\n",
       "</div>"
      ],
      "text/plain": [
       "          in_id     0     1     2     3     4     5     6          7     8  \\\n",
       "0  ICL1L2000011  21.5  22.3  21.8  21.5  21.5  21.1  20.3  21.777778  22.4   \n",
       "1  ICL1L2000017  11.4  11.3  11.3  11.5  11.1  11.8  12.0  12.200000  12.4   \n",
       "2  ICL1L2000064  15.3  15.2  16.1  14.5  16.9  15.3  15.5  15.500000  15.9   \n",
       "3  ICL1L2000065  16.2  16.2  16.6  16.7  16.9  16.6  16.8  17.100000  17.3   \n",
       "4  ICL1L2000234  43.3  43.5  42.5  41.9  42.2  41.8  42.8  42.800000  42.9   \n",
       "\n",
       "      ...       999  1000  1001  1002  1003  1004  1005  1006  1007  \\\n",
       "0     ...       4.2   4.3   3.6   4.0   3.8   4.0   3.9   4.1   4.3   \n",
       "1     ...       3.8   3.8   4.4   3.9   3.3   3.6   4.1   5.5   7.2   \n",
       "2     ...      18.4  17.9  19.8  19.1  19.3  19.8  21.8  20.7  21.7   \n",
       "3     ...      12.4  12.1  12.5  13.3  13.8  14.0  14.7  14.2  14.8   \n",
       "4     ...      36.9  36.8  37.2  36.9  37.1  37.5  37.1  37.5  37.0   \n",
       "\n",
       "      Cluster  \n",
       "0  Cluster -1  \n",
       "1  Cluster -1  \n",
       "2  Cluster -1  \n",
       "3  Cluster -1  \n",
       "4   Cluster 0  \n",
       "\n",
       "[5 rows x 1010 columns]"
      ]
     },
     "execution_count": 19,
     "metadata": {},
     "output_type": "execute_result"
    }
   ],
   "source": [
    "train_df.head()"
   ]
  },
  {
   "cell_type": "code",
   "execution_count": 20,
   "metadata": {},
   "outputs": [],
   "source": [
    "# DataFrame에서 `in_id` column과 `Cluster` column을 삭제함\n",
    "train_df = train_df.drop(['in_id', 'Cluster'], axis=1).reset_index(drop=True)\n",
    "valid_df = valid_df.drop(['in_id', 'Cluster'], axis=1).reset_index(drop=True)\n",
    "test_df = test_df.drop(['in_id', 'Cluster'], axis=1).reset_index(drop=True)"
   ]
  },
  {
   "cell_type": "code",
   "execution_count": 21,
   "metadata": {},
   "outputs": [
    {
     "name": "stdout",
     "output_type": "stream",
     "text": [
      "Train Data - Number of 0:  1640\n",
      "Valid Data - Number of 0:  401\n",
      "Test Data - Number of 0:  0\n"
     ]
    }
   ],
   "source": [
    "# 각 DataFrame에 포함된 0 값의 갯 수를 확인함\n",
    "print(\"Train Data - Number of 0: \", (train_df == 0).sum().sum())\n",
    "print(\"Valid Data - Number of 0: \", (valid_df == 0).sum().sum())\n",
    "print(\"Test Data - Number of 0: \", (test_df == 0).sum().sum())"
   ]
  },
  {
   "cell_type": "code",
   "execution_count": 22,
   "metadata": {},
   "outputs": [],
   "source": [
    "def dataframe_to_list(data_df):\n",
    "    \"\"\"DataFrame을 list로 변환하기 위한 helper 함수 정의\"\"\"\n",
    "    total_data = []  # 전체 데이터 샘플 리스트\n",
    "    data_list = []  # 데이터 샘플의 리스트\n",
    "    for i in range(len(data_df)):\n",
    "        i_row = data_df.loc[i, :].tolist()\n",
    "        total_data.extend(i_row)\n",
    "        data_list.append(i_row)\n",
    "    \n",
    "    return total_data, data_list"
   ]
  },
  {
   "cell_type": "code",
   "execution_count": 23,
   "metadata": {},
   "outputs": [],
   "source": [
    "# DataFrame을 list 형태로 변환함\n",
    "train_data_total, train_data_clusters = dataframe_to_list(train_df)\n",
    "valid_data_total, valid_data_clusters = dataframe_to_list(valid_df)\n",
    "test_data_total, test_data_clusters = dataframe_to_list(test_df)"
   ]
  },
  {
   "cell_type": "code",
   "execution_count": 24,
   "metadata": {},
   "outputs": [],
   "source": [
    "def scale_data_clusters(scaler, data_clusters):\n",
    "    \"\"\"Scaler를 사용해 각 시계열 데이터 샘플에 대해 정규화를 진행하는 함수를 정의\"\"\"\n",
    "    std_data_clusters = []\n",
    "    for data_cluster in data_clusters:\n",
    "        # scaler의 transform 함수를 사용해 정규화를 진행함\n",
    "        std_data_cluster = scaler.transform(np.array(data_cluster).reshape(-1, 1))\n",
    "        std_data_cluster = std_data_cluster.reshape(-1).tolist()\n",
    "        std_data_clusters.append(std_data_cluster)\n",
    "    return std_data_clusters"
   ]
  },
  {
   "cell_type": "code",
   "execution_count": 25,
   "metadata": {},
   "outputs": [],
   "source": [
    "scaler = MinMaxScaler()  # MinMaxScaler 정규화 객체 생성\n",
    "scaler.fit(np.array(train_data_total).reshape(-1, 1))\n",
    "# 각 데이터 클러스터에 대해 정규화를 진행함\n",
    "std_train_data_clusters = scale_data_clusters(scaler, train_data_clusters)\n",
    "std_valid_data_clusters = scale_data_clusters(scaler, valid_data_clusters)\n",
    "std_test_data_clusters = scale_data_clusters(scaler, test_data_clusters)"
   ]
  },
  {
   "cell_type": "code",
   "execution_count": 26,
   "metadata": {},
   "outputs": [
    {
     "name": "stdout",
     "output_type": "stream",
     "text": [
      "150\n"
     ]
    }
   ],
   "source": [
    "print(len(std_train_data_clusters))"
   ]
  },
  {
   "cell_type": "code",
   "execution_count": 27,
   "metadata": {},
   "outputs": [],
   "source": [
    "def wrap_cluster(data_cluster, window_size=6, look_ahead=6):\n",
    "    \"\"\"List 형식의 data_cluster를 사용해 모델 입력을 위한\n",
    "    (batch_size, window_size, 1) 형식으로 변환함\"\"\"\n",
    "    data_x, data_y = [], []\n",
    "    assert isinstance(data_cluster, list)\n",
    "    data_cluster = np.array(data_cluster)\n",
    "    for i in range(len(data_cluster) - window_size - look_ahead):\n",
    "        x = data_cluster[i: (i + window_size)]\n",
    "        y = data_cluster[i + window_size + look_ahead]\n",
    "        data_x.append(x)  # window_size 만큼의 데이터를 입력으로 사용\n",
    "        data_y.append(y)  # look_ahead 이후의 데이터를 예측함\n",
    "    return np.array(data_x).reshape(-1, window_size, 1), np.array(data_y)"
   ]
  },
  {
   "cell_type": "code",
   "execution_count": 28,
   "metadata": {},
   "outputs": [
    {
     "name": "stdout",
     "output_type": "stream",
     "text": [
      "[0.007684060042887777, 0.007969978556111508, 0.007791279485346677, 0.007684060042887777, 0.007684060042887777, 0.007541100786275912, 0.0072551822730521805, 0.007783337305218014, 0.008005718370264474, 0.007827019299499643, 0.0075053609721229455, 0.00954253037884203, 0.008934953538241601, 0.007898498927805576, 0.009113652609006434]\n"
     ]
    }
   ],
   "source": [
    "sample_cluster = std_train_data_clusters[0][:15]\n",
    "print(sample_cluster)"
   ]
  },
  {
   "cell_type": "code",
   "execution_count": 29,
   "metadata": {},
   "outputs": [
    {
     "data": {
      "text/plain": [
       "(array([[[0.00768406],\n",
       "         [0.00796998],\n",
       "         [0.00779128],\n",
       "         [0.00768406],\n",
       "         [0.00768406],\n",
       "         [0.0075411 ]],\n",
       " \n",
       "        [[0.00796998],\n",
       "         [0.00779128],\n",
       "         [0.00768406],\n",
       "         [0.00768406],\n",
       "         [0.0075411 ],\n",
       "         [0.00725518]],\n",
       " \n",
       "        [[0.00779128],\n",
       "         [0.00768406],\n",
       "         [0.00768406],\n",
       "         [0.0075411 ],\n",
       "         [0.00725518],\n",
       "         [0.00778334]]]),\n",
       " array([0.00893495, 0.0078985 , 0.00911365]))"
      ]
     },
     "execution_count": 29,
     "metadata": {},
     "output_type": "execute_result"
    }
   ],
   "source": [
    "wrap_cluster(sample_cluster)"
   ]
  },
  {
   "cell_type": "code",
   "execution_count": 30,
   "metadata": {},
   "outputs": [],
   "source": [
    "def create_dataset(data_clusters):\n",
    "    \"\"\"wrap_cluster 함수를 이용해 dataset 생성\"\"\"\n",
    "    X, y = [], []\n",
    "    for data_cluster in data_clusters:\n",
    "        cluster_X, cluster_y = wrap_cluster(data_cluster)\n",
    "        X.append(cluster_X)\n",
    "        y.append(cluster_y)\n",
    "        \n",
    "    # np.concatenate 함수를 이용해 여러 게의 numpy array를 하나로 concat 함\n",
    "    # [(1, window_size, 1), (1, window_size, 1)] -> (2, window_size, 1)\n",
    "    return np.concatenate(X, axis=0), np.concatenate(y, axis=0)"
   ]
  },
  {
   "cell_type": "code",
   "execution_count": 31,
   "metadata": {},
   "outputs": [],
   "source": [
    "# train, test, validation 데이터 각각에 대해\n",
    "# create_dataset 함수를 사용해 데이터 셋을 생성함\n",
    "train_X, train_y = create_dataset(std_train_data_clusters)\n",
    "valid_X, valid_y = create_dataset(std_valid_data_clusters)\n",
    "test_X, test_y = create_dataset(std_test_data_clusters)"
   ]
  },
  {
   "cell_type": "code",
   "execution_count": 32,
   "metadata": {},
   "outputs": [
    {
     "name": "stdout",
     "output_type": "stream",
     "text": [
      "(149400, 6, 1) (149400,)\n",
      "(996, 6, 1) (996,)\n",
      "(996, 6, 1) (996,)\n"
     ]
    }
   ],
   "source": [
    "print(train_X.shape, train_y.shape)\n",
    "print(valid_X.shape, valid_y.shape)\n",
    "print(test_X.shape, test_y.shape)"
   ]
  },
  {
   "cell_type": "code",
   "execution_count": 33,
   "metadata": {},
   "outputs": [],
   "source": [
    "def attention_3d_block(inputs, input_dim, single_attention_vector):\n",
    "    \"\"\"Feature attention block 정의\"\"\"\n",
    "    time_steps = int(inputs.shape[1])\n",
    "    # Attention weights 계산\n",
    "    a = Dense(input_dim, activation='softmax', name='attention_vec')(inputs)  # (batch_size, input_dim, time_step)\n",
    "    if single_attention_vector:\n",
    "        a = Lambda(lambda x: K.mean(x, axis=1), name='dim_reduction')(a)  # (batch_size, input_dim)\n",
    "        a = RepeatVector(time_steps)(a)  # (batch_size, input_dim, time_step)\n",
    "    output_attention_mul = multiply([inputs, a], name='attention_mul')  # Attention weights 적용\n",
    "    return output_attention_mul"
   ]
  },
  {
   "cell_type": "code",
   "execution_count": 34,
   "metadata": {},
   "outputs": [],
   "source": [
    "def model_attention_applied_before_lstm(batch_size, time_step, feature_num, single_attention_vector):\n",
    "    \"\"\"Attention LSTM 모델 정의\"\"\"\n",
    "    inputs = Input(shape=(time_step, feature_num))\n",
    "    x = attention_3d_block(inputs, feature_num, single_attention_vector)\n",
    "    x = LSTM(6, activation='tanh',\n",
    "             stateful=False,\n",
    "             return_sequences=True,\n",
    "             kernel_initializer='he_normal')(x)\n",
    "    x = Dropout(0.2)(x)\n",
    "    x = Flatten()(x)\n",
    "    x = Dense(10, activation='linear', kernel_regularizer=regularizers.l2(0.01),\n",
    "              activity_regularizer=regularizers.l1(0.))(x)\n",
    "    output = Dense(1, activation='linear', kernel_initializer='he_normal')(x)\n",
    "\n",
    "    model = Model(input=[inputs], output=output)\n",
    "    return model"
   ]
  },
  {
   "cell_type": "code",
   "execution_count": 35,
   "metadata": {},
   "outputs": [
    {
     "name": "stdout",
     "output_type": "stream",
     "text": [
      "WARNING:tensorflow:From c:\\programdata\\anaconda3\\envs\\at\\lib\\site-packages\\tensorflow\\python\\framework\\op_def_library.py:263: colocate_with (from tensorflow.python.framework.ops) is deprecated and will be removed in a future version.\n",
      "Instructions for updating:\n",
      "Colocations handled automatically by placer.\n",
      "WARNING:tensorflow:From c:\\programdata\\anaconda3\\envs\\at\\lib\\site-packages\\keras\\backend\\tensorflow_backend.py:3445: calling dropout (from tensorflow.python.ops.nn_ops) with keep_prob is deprecated and will be removed in a future version.\n",
      "Instructions for updating:\n",
      "Please use `rate` instead of `keep_prob`. Rate should be set to `rate = 1 - keep_prob`.\n"
     ]
    }
   ],
   "source": [
    "# 하이퍼 파라미터 정의\n",
    "batch_size = 4\n",
    "look_back = 6\n",
    "feature_num = 1\n",
    "SINGLE_ATTENTION_VECTOR = True\n",
    "\n",
    "# LSTM 모델을 생성하고 compile를 진행함\n",
    "model = model_attention_applied_before_lstm(batch_size, look_back, feature_num, SINGLE_ATTENTION_VECTOR)\n",
    "model.compile(loss='mean_squared_error', optimizer='adam')"
   ]
  },
  {
   "cell_type": "code",
   "execution_count": 36,
   "metadata": {},
   "outputs": [
    {
     "name": "stdout",
     "output_type": "stream",
     "text": [
      "WARNING:tensorflow:From c:\\programdata\\anaconda3\\envs\\at\\lib\\site-packages\\tensorflow\\python\\ops\\math_ops.py:3066: to_int32 (from tensorflow.python.ops.math_ops) is deprecated and will be removed in a future version.\n",
      "Instructions for updating:\n",
      "Use tf.cast instead.\n",
      "WARNING:tensorflow:From c:\\programdata\\anaconda3\\envs\\at\\lib\\site-packages\\tensorflow\\python\\ops\\math_grad.py:102: div (from tensorflow.python.ops.math_ops) is deprecated and will be removed in a future version.\n",
      "Instructions for updating:\n",
      "Deprecated in favor of operator or tf.math.divide.\n",
      "Train on 149400 samples, validate on 996 samples\n",
      "Epoch 1/10\n",
      "149400/149400 [==============================] - 99s 663us/step - loss: 5.0170e-04 - val_loss: 7.1247e-06\n",
      "Epoch 2/10\n",
      "149400/149400 [==============================] - 100s 670us/step - loss: 6.5076e-05 - val_loss: 7.4578e-06\n",
      "Epoch 3/10\n",
      "149400/149400 [==============================] - 100s 672us/step - loss: 6.4320e-05 - val_loss: 4.8137e-05\n",
      "Epoch 4/10\n",
      "149400/149400 [==============================] - 102s 684us/step - loss: 6.3266e-05 - val_loss: 5.4996e-06\n",
      "Epoch 5/10\n",
      "149400/149400 [==============================] - 101s 678us/step - loss: 6.3498e-05 - val_loss: 6.4291e-06\n",
      "Epoch 6/10\n",
      "149400/149400 [==============================] - 102s 682us/step - loss: 6.3367e-05 - val_loss: 6.9531e-06\n",
      "Epoch 7/10\n",
      "149400/149400 [==============================] - 102s 685us/step - loss: 6.3301e-05 - val_loss: 5.0760e-06\n",
      "Epoch 8/10\n",
      "149400/149400 [==============================] - 103s 690us/step - loss: 6.3206e-05 - val_loss: 8.2695e-06\n",
      "Epoch 9/10\n",
      "149400/149400 [==============================] - 102s 685us/step - loss: 6.3055e-05 - val_loss: 2.7730e-06\n",
      "Epoch 10/10\n",
      "149400/149400 [==============================] - 103s 686us/step - loss: 6.3186e-05 - val_loss: 5.5706e-06\n"
     ]
    }
   ],
   "source": [
    "# 모델 훈련 진행\n",
    "# 훈련 과정의 손실값을 history 변수에 저장\n",
    "history = model.fit(train_X, train_y,\n",
    "                    validation_data=(valid_X, valid_y),\n",
    "                    batch_size=batch_size, epochs=10)"
   ]
  },
  {
   "cell_type": "code",
   "execution_count": 37,
   "metadata": {},
   "outputs": [],
   "source": [
    "loss = history.history['loss']\n",
    "val_loss = history.history['val_loss']"
   ]
  },
  {
   "cell_type": "code",
   "execution_count": 38,
   "metadata": {},
   "outputs": [
    {
     "data": {
      "text/plain": [
       "<matplotlib.legend.Legend at 0x26a57464e80>"
      ]
     },
     "execution_count": 38,
     "metadata": {},
     "output_type": "execute_result"
    },
    {
     "data": {
      "image/png": "[encoded data removed]",
      "text/plain": [
       "<Figure size 432x288 with 1 Axes>"
      ]
     },
     "metadata": {
      "needs_background": "light"
     },
     "output_type": "display_data"
    }
   ],
   "source": [
    "# train loss와 validation loss의 변화를 matplotlib를 사용해 시각화함\n",
    "plt.plot(loss, label='loss')\n",
    "plt.plot(val_loss, label='val_loss')\n",
    "plt.legend()"
   ]
  },
  {
   "cell_type": "code",
   "execution_count": 39,
   "metadata": {},
   "outputs": [],
   "source": [
    "# 훈련한 모델을 사용해 예측을 진행함\n",
    "train_predict = model.predict(train_X, batch_size)\n",
    "valid_predict = model.predict(valid_X, batch_size)\n",
    "test_predict = model.predict(test_X, batch_size)"
   ]
  },
  {
   "cell_type": "code",
   "execution_count": 40,
   "metadata": {},
   "outputs": [],
   "source": [
    "# 성능 측정을 위해 예측한 값에 대해 inverse transform을 진행함\n",
    "inv_train_y = scaler.inverse_transform(train_y.reshape(-1, 1))\n",
    "inv_train_predict = scaler.inverse_transform(train_predict)"
   ]
  },
  {
   "cell_type": "code",
   "execution_count": 41,
   "metadata": {},
   "outputs": [],
   "source": [
    "inv_valid_y = scaler.inverse_transform(valid_y.reshape(-1, 1))\n",
    "inv_valid_predict = scaler.inverse_transform(valid_predict)"
   ]
  },
  {
   "cell_type": "code",
   "execution_count": 42,
   "metadata": {},
   "outputs": [],
   "source": [
    "inv_test_y = scaler.inverse_transform(test_y.reshape(-1, 1))\n",
    "inv_test_predict = scaler.inverse_transform(test_predict)"
   ]
  },
  {
   "cell_type": "code",
   "execution_count": 43,
   "metadata": {},
   "outputs": [],
   "source": [
    "# train, test, validation set에 대해 MAPE 계산\n",
    "train_mape = mean_absolute_percentage_error(inv_train_y, inv_train_predict)\n",
    "valid_mape = mean_absolute_percentage_error(inv_valid_y, inv_valid_predict)\n",
    "test_mape = mean_absolute_percentage_error(inv_test_y, inv_test_predict)"
   ]
  },
  {
   "cell_type": "code",
   "execution_count": 44,
   "metadata": {},
   "outputs": [
    {
     "name": "stdout",
     "output_type": "stream",
     "text": [
      "Train MAPE: inf\n",
      "Valid MAPE: inf\n",
      "Test MAPE: 22.51\n"
     ]
    }
   ],
   "source": [
    "print(\"Train MAPE: %.2f\" % train_mape)\n",
    "print(\"Valid MAPE: %.2f\" % valid_mape)\n",
    "print(\"Test MAPE: %.2f\" % test_mape)"
   ]
  },
  {
   "cell_type": "code",
   "execution_count": 45,
   "metadata": {},
   "outputs": [],
   "source": [
    "# train, test, validation set에 대해 SMAPE 계산\n",
    "train_smape = calculate_smape(inv_train_y, inv_train_predict)\n",
    "valid_smape = calculate_smape(inv_valid_y, inv_valid_predict)\n",
    "test_smape = calculate_smape(inv_test_y, inv_test_predict)"
   ]
  },
  {
   "cell_type": "code",
   "execution_count": 46,
   "metadata": {},
   "outputs": [
    {
     "name": "stdout",
     "output_type": "stream",
     "text": [
      "Train SMAPE: 30.00\n",
      "Valid SMAPE: 120.96\n",
      "Test SMAPE: 19.85\n"
     ]
    }
   ],
   "source": [
    "print(\"Train SMAPE: %.2f\" % train_smape)\n",
    "print(\"Valid SMAPE: %.2f\" % valid_smape)\n",
    "print(\"Test SMAPE: %.2f\" % test_smape)"
   ]
  },
  {
   "cell_type": "code",
   "execution_count": 47,
   "metadata": {},
   "outputs": [],
   "source": [
    "# train, test, validation set에 대해 MSE 계산\n",
    "train_mse = mean_squared_error(inv_train_y, inv_train_predict)\n",
    "valid_mse = mean_squared_error(inv_valid_y, inv_valid_predict)\n",
    "test_mse = mean_squared_error(inv_test_y, inv_test_predict)"
   ]
  },
  {
   "cell_type": "code",
   "execution_count": 48,
   "metadata": {},
   "outputs": [
    {
     "name": "stdout",
     "output_type": "stream",
     "text": [
      "Train MSE: 395.58\n",
      "Valid MSE: 5.75\n",
      "Test MSE: 56.35\n"
     ]
    }
   ],
   "source": [
    "print(\"Train MSE: %.2f\" % train_mse)\n",
    "print(\"Valid MSE: %.2f\" % valid_mse)\n",
    "print(\"Test MSE: %.2f\" % test_mse)"
   ]
  },
  {
   "cell_type": "code",
   "execution_count": 49,
   "metadata": {},
   "outputs": [
    {
     "data": {
      "text/plain": [
       "<matplotlib.legend.Legend at 0x26a597ba160>"
      ]
     },
     "execution_count": 49,
     "metadata": {},
     "output_type": "execute_result"
    },
    {
     "data": {
      "image/png": "[encoded data removed]",
      "text/plain": [
       "<Figure size 1152x576 with 1 Axes>"
      ]
     },
     "metadata": {
      "needs_background": "light"
     },
     "output_type": "display_data"
    }
   ],
   "source": [
    "# matplotlib을 이용해 train, test, validation set에 대한 실제값과 예측값을 시각화함\n",
    "train_term = len(inv_train_y)\n",
    "valid_term = len(inv_train_y) + len(inv_valid_y)\n",
    "total_sample = len(inv_train_y) + len(inv_valid_y) + len(inv_test_y)\n",
    "\n",
    "plt.figure(figsize=(16, 8))\n",
    "plt.plot(np.arange(train_term), inv_train_y, color='red', ls='-', label='Real Train Data')\n",
    "plt.plot(np.arange(train_term), inv_train_predict, color='blue', ls='--', label='Predict Train Data')\n",
    "plt.plot(np.arange(train_term, valid_term), inv_valid_y, color='red', ls='-', label='Real Valid Data')\n",
    "plt.plot(np.arange(train_term, valid_term), inv_valid_predict, color='green', ls='--', label='Predict Valid Data')\n",
    "plt.plot(np.arange(valid_term, total_sample), inv_test_y, color='red', ls='-', label='Real Test Data')\n",
    "plt.plot(np.arange(valid_term, total_sample), inv_test_predict, color='black', ls='--', label='Predict Test Data')\n",
    "plt.title('Prediction')\n",
    "plt.legend()"
   ]
  },
  {
   "cell_type": "code",
   "execution_count": 50,
   "metadata": {},
   "outputs": [
    {
     "data": {
      "text/plain": [
       "<matplotlib.legend.Legend at 0x26a59805eb8>"
      ]
     },
     "execution_count": 50,
     "metadata": {},
     "output_type": "execute_result"
    },
    {
     "data": {
      "image/png": "[encoded data removed]",
      "text/plain": [
       "<Figure size 1152x576 with 1 Axes>"
      ]
     },
     "metadata": {
      "needs_background": "light"
     },
     "output_type": "display_data"
    }
   ],
   "source": [
    "# matplotlib을 이용해 train set의 마지막 부분과 test, validation set에 대한 실제값과 예측값을 시각화함\n",
    "train_term = 4980\n",
    "valid_term = train_term + len(inv_valid_y)\n",
    "total_sample = train_term + len(inv_valid_y) + len(inv_test_y)\n",
    "\n",
    "plt.figure(figsize=(16, 8))\n",
    "plt.plot(np.arange(train_term), inv_train_y[-train_term:], color='red', ls='-', label='Real Train Data')\n",
    "plt.plot(np.arange(train_term), inv_train_predict[-train_term:], color='blue', ls='--', label='Predict Train Data')\n",
    "plt.plot(np.arange(train_term, valid_term), inv_valid_y, color='red', ls='-', label='Real Valid Data')\n",
    "plt.plot(np.arange(train_term, valid_term), inv_valid_predict, color='green', ls='--', label='Predict Valid Data')\n",
    "plt.plot(np.arange(valid_term, total_sample), inv_test_y, color='red', ls='-', label='Real Test Data')\n",
    "plt.plot(np.arange(valid_term, total_sample), inv_test_predict, color='black', ls='--', label='Predict Test Data')\n",
    "plt.title('Prediction')\n",
    "plt.legend()"
   ]
  },
  {
   "cell_type": "code",
   "execution_count": null,
   "metadata": {},
   "outputs": [],
   "source": []
  }
 ],
 "metadata": {
  "kernelspec": {
   "display_name": "Python 3",
   "language": "python",
   "name": "python3"
  },
  "language_info": {
   "codemirror_mode": {
    "name": "ipython",
    "version": 3
   },
   "file_extension": ".py",
   "mimetype": "text/x-python",
   "name": "python",
   "nbconvert_exporter": "python",
   "pygments_lexer": "ipython3",
   "version": "3.6.12"
  }
 },
 "nbformat": 4,
 "nbformat_minor": 4
}
